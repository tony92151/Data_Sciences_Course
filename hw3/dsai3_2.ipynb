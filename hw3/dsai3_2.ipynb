{
  "nbformat": 4,
  "nbformat_minor": 0,
  "metadata": {
    "colab": {
      "name": "dsai3_2.ipynb",
      "version": "0.3.2",
      "provenance": [],
      "collapsed_sections": []
    },
    "kernelspec": {
      "name": "python3",
      "display_name": "Python 3"
    },
    "accelerator": "GPU"
  },
  "cells": [
    {
      "cell_type": "markdown",
      "metadata": {
        "id": "61hDcMi3xWSh",
        "colab_type": "text"
      },
      "source": [
        "# Download data and unzip"
      ]
    },
    {
      "cell_type": "code",
      "metadata": {
        "id": "9NYZbNYLQqOa",
        "colab_type": "code",
        "outputId": "ff08f2ee-127f-403c-8cdc-df0fba40a37d",
        "colab": {
          "base_uri": "https://localhost:8080/",
          "height": 434
        }
      },
      "source": [
        "!wget --content-disposition 'https://docs.google.com/uc?export=download&id=1-mpuwj2H45sHGRa-N1PQ8qeBSzmM1ubx' \n",
        "!apt-get install unzip\n",
        "!unzip 'competitive-data-science-predict-future-sales.zip' -d data\n",
        "\n",
        "!gunzip 'data/test.csv.gz'\n",
        "!gunzip 'data/sample_submission.csv.gz'\n",
        "!gunzip 'data/sales_train.csv.gz'"
      ],
      "execution_count": 0,
      "outputs": [
        {
          "output_type": "error",
          "ename": "KeyboardInterrupt",
          "evalue": "ignored",
          "traceback": [
            "\u001b[0;31m---------------------------------------------------------------------------\u001b[0m",
            "\u001b[0;31mKeyboardInterrupt\u001b[0m                         Traceback (most recent call last)",
            "\u001b[0;32m<ipython-input-1-68a451b9dddb>\u001b[0m in \u001b[0;36m<module>\u001b[0;34m()\u001b[0m\n\u001b[0;32m----> 1\u001b[0;31m \u001b[0mget_ipython\u001b[0m\u001b[0;34m(\u001b[0m\u001b[0;34m)\u001b[0m\u001b[0;34m.\u001b[0m\u001b[0msystem\u001b[0m\u001b[0;34m(\u001b[0m\u001b[0;34m\"wget --content-disposition 'https://docs.google.com/uc?export=download&id=1-mpuwj2H45sHGRa-N1PQ8qeBSzmM1ubx' \"\u001b[0m\u001b[0;34m)\u001b[0m\u001b[0;34m\u001b[0m\u001b[0;34m\u001b[0m\u001b[0m\n\u001b[0m\u001b[1;32m      2\u001b[0m \u001b[0mget_ipython\u001b[0m\u001b[0;34m(\u001b[0m\u001b[0;34m)\u001b[0m\u001b[0;34m.\u001b[0m\u001b[0msystem\u001b[0m\u001b[0;34m(\u001b[0m\u001b[0;34m'apt-get install unzip'\u001b[0m\u001b[0;34m)\u001b[0m\u001b[0;34m\u001b[0m\u001b[0;34m\u001b[0m\u001b[0m\n\u001b[1;32m      3\u001b[0m \u001b[0mget_ipython\u001b[0m\u001b[0;34m(\u001b[0m\u001b[0;34m)\u001b[0m\u001b[0;34m.\u001b[0m\u001b[0msystem\u001b[0m\u001b[0;34m(\u001b[0m\u001b[0;34m\"unzip 'competitive-data-science-predict-future-sales.zip' -d data\"\u001b[0m\u001b[0;34m)\u001b[0m\u001b[0;34m\u001b[0m\u001b[0;34m\u001b[0m\u001b[0m\n\u001b[1;32m      4\u001b[0m \u001b[0;34m\u001b[0m\u001b[0m\n\u001b[1;32m      5\u001b[0m \u001b[0mget_ipython\u001b[0m\u001b[0;34m(\u001b[0m\u001b[0;34m)\u001b[0m\u001b[0;34m.\u001b[0m\u001b[0msystem\u001b[0m\u001b[0;34m(\u001b[0m\u001b[0;34m\"gunzip 'data/test.csv.gz'\"\u001b[0m\u001b[0;34m)\u001b[0m\u001b[0;34m\u001b[0m\u001b[0;34m\u001b[0m\u001b[0m\n",
            "\u001b[0;32m/usr/local/lib/python3.6/dist-packages/google/colab/_shell.py\u001b[0m in \u001b[0;36msystem\u001b[0;34m(self, *args, **kwargs)\u001b[0m\n\u001b[1;32m     71\u001b[0m       \u001b[0mkwargs\u001b[0m\u001b[0;34m.\u001b[0m\u001b[0mupdate\u001b[0m\u001b[0;34m(\u001b[0m\u001b[0;34m{\u001b[0m\u001b[0;34m'also_return_output'\u001b[0m\u001b[0;34m:\u001b[0m \u001b[0;32mTrue\u001b[0m\u001b[0;34m}\u001b[0m\u001b[0;34m)\u001b[0m\u001b[0;34m\u001b[0m\u001b[0;34m\u001b[0m\u001b[0m\n\u001b[1;32m     72\u001b[0m \u001b[0;34m\u001b[0m\u001b[0m\n\u001b[0;32m---> 73\u001b[0;31m     \u001b[0moutput\u001b[0m \u001b[0;34m=\u001b[0m \u001b[0m_system_commands\u001b[0m\u001b[0;34m.\u001b[0m\u001b[0m_system_compat\u001b[0m\u001b[0;34m(\u001b[0m\u001b[0mself\u001b[0m\u001b[0;34m,\u001b[0m \u001b[0;34m*\u001b[0m\u001b[0margs\u001b[0m\u001b[0;34m,\u001b[0m \u001b[0;34m**\u001b[0m\u001b[0mkwargs\u001b[0m\u001b[0;34m)\u001b[0m  \u001b[0;31m# pylint:disable=protected-access\u001b[0m\u001b[0;34m\u001b[0m\u001b[0;34m\u001b[0m\u001b[0m\n\u001b[0m\u001b[1;32m     74\u001b[0m \u001b[0;34m\u001b[0m\u001b[0m\n\u001b[1;32m     75\u001b[0m     \u001b[0;32mif\u001b[0m \u001b[0mpip_warn\u001b[0m\u001b[0;34m:\u001b[0m\u001b[0;34m\u001b[0m\u001b[0;34m\u001b[0m\u001b[0m\n",
            "\u001b[0;32m/usr/local/lib/python3.6/dist-packages/google/colab/_system_commands.py\u001b[0m in \u001b[0;36m_system_compat\u001b[0;34m(shell, cmd, also_return_output)\u001b[0m\n\u001b[1;32m    436\u001b[0m   \u001b[0;31m# stack.\u001b[0m\u001b[0;34m\u001b[0m\u001b[0;34m\u001b[0m\u001b[0;34m\u001b[0m\u001b[0m\n\u001b[1;32m    437\u001b[0m   result = _run_command(\n\u001b[0;32m--> 438\u001b[0;31m       shell.var_expand(cmd, depth=2), clear_streamed_output=False)\n\u001b[0m\u001b[1;32m    439\u001b[0m   \u001b[0mshell\u001b[0m\u001b[0;34m.\u001b[0m\u001b[0muser_ns\u001b[0m\u001b[0;34m[\u001b[0m\u001b[0;34m'_exit_code'\u001b[0m\u001b[0;34m]\u001b[0m \u001b[0;34m=\u001b[0m \u001b[0mresult\u001b[0m\u001b[0;34m.\u001b[0m\u001b[0mreturncode\u001b[0m\u001b[0;34m\u001b[0m\u001b[0;34m\u001b[0m\u001b[0m\n\u001b[1;32m    440\u001b[0m   \u001b[0;32mif\u001b[0m \u001b[0;34m-\u001b[0m\u001b[0mresult\u001b[0m\u001b[0;34m.\u001b[0m\u001b[0mreturncode\u001b[0m \u001b[0;32min\u001b[0m \u001b[0m_INTERRUPTED_SIGNALS\u001b[0m\u001b[0;34m:\u001b[0m\u001b[0;34m\u001b[0m\u001b[0;34m\u001b[0m\u001b[0m\n",
            "\u001b[0;32m/usr/local/lib/python3.6/dist-packages/google/colab/_system_commands.py\u001b[0m in \u001b[0;36m_run_command\u001b[0;34m(cmd, clear_streamed_output)\u001b[0m\n\u001b[1;32m    179\u001b[0m \u001b[0;34m\u001b[0m\u001b[0m\n\u001b[1;32m    180\u001b[0m     with temporary_clearer(), _display_stdin_widget(\n\u001b[0;32m--> 181\u001b[0;31m         delay_millis=500) as update_stdin_widget:\n\u001b[0m\u001b[1;32m    182\u001b[0m       \u001b[0;31m# TODO(b/115531839): Ensure that subprocesses are terminated upon\u001b[0m\u001b[0;34m\u001b[0m\u001b[0;34m\u001b[0m\u001b[0;34m\u001b[0m\u001b[0m\n\u001b[1;32m    183\u001b[0m       \u001b[0;31m# interrupt.\u001b[0m\u001b[0;34m\u001b[0m\u001b[0;34m\u001b[0m\u001b[0;34m\u001b[0m\u001b[0m\n",
            "\u001b[0;32m/usr/lib/python3.6/contextlib.py\u001b[0m in \u001b[0;36m__enter__\u001b[0;34m(self)\u001b[0m\n\u001b[1;32m     79\u001b[0m     \u001b[0;32mdef\u001b[0m \u001b[0m__enter__\u001b[0m\u001b[0;34m(\u001b[0m\u001b[0mself\u001b[0m\u001b[0;34m)\u001b[0m\u001b[0;34m:\u001b[0m\u001b[0;34m\u001b[0m\u001b[0;34m\u001b[0m\u001b[0m\n\u001b[1;32m     80\u001b[0m         \u001b[0;32mtry\u001b[0m\u001b[0;34m:\u001b[0m\u001b[0;34m\u001b[0m\u001b[0;34m\u001b[0m\u001b[0m\n\u001b[0;32m---> 81\u001b[0;31m             \u001b[0;32mreturn\u001b[0m \u001b[0mnext\u001b[0m\u001b[0;34m(\u001b[0m\u001b[0mself\u001b[0m\u001b[0;34m.\u001b[0m\u001b[0mgen\u001b[0m\u001b[0;34m)\u001b[0m\u001b[0;34m\u001b[0m\u001b[0;34m\u001b[0m\u001b[0m\n\u001b[0m\u001b[1;32m     82\u001b[0m         \u001b[0;32mexcept\u001b[0m \u001b[0mStopIteration\u001b[0m\u001b[0;34m:\u001b[0m\u001b[0;34m\u001b[0m\u001b[0;34m\u001b[0m\u001b[0m\n\u001b[1;32m     83\u001b[0m             \u001b[0;32mraise\u001b[0m \u001b[0mRuntimeError\u001b[0m\u001b[0;34m(\u001b[0m\u001b[0;34m\"generator didn't yield\"\u001b[0m\u001b[0;34m)\u001b[0m \u001b[0;32mfrom\u001b[0m \u001b[0;32mNone\u001b[0m\u001b[0;34m\u001b[0m\u001b[0;34m\u001b[0m\u001b[0m\n",
            "\u001b[0;32m/usr/local/lib/python3.6/dist-packages/google/colab/_system_commands.py\u001b[0m in \u001b[0;36m_display_stdin_widget\u001b[0;34m(delay_millis)\u001b[0m\n\u001b[1;32m    339\u001b[0m   \u001b[0mshell\u001b[0m \u001b[0;34m=\u001b[0m \u001b[0m_ipython\u001b[0m\u001b[0;34m.\u001b[0m\u001b[0mget_ipython\u001b[0m\u001b[0;34m(\u001b[0m\u001b[0;34m)\u001b[0m\u001b[0;34m\u001b[0m\u001b[0;34m\u001b[0m\u001b[0m\n\u001b[1;32m    340\u001b[0m   \u001b[0mdisplay_args\u001b[0m \u001b[0;34m=\u001b[0m \u001b[0;34m[\u001b[0m\u001b[0;34m'cell_display_stdin'\u001b[0m\u001b[0;34m,\u001b[0m \u001b[0;34m{\u001b[0m\u001b[0;34m'delayMillis'\u001b[0m\u001b[0;34m:\u001b[0m \u001b[0mdelay_millis\u001b[0m\u001b[0;34m}\u001b[0m\u001b[0;34m]\u001b[0m\u001b[0;34m\u001b[0m\u001b[0;34m\u001b[0m\u001b[0m\n\u001b[0;32m--> 341\u001b[0;31m   \u001b[0m_message\u001b[0m\u001b[0;34m.\u001b[0m\u001b[0mblocking_request\u001b[0m\u001b[0;34m(\u001b[0m\u001b[0;34m*\u001b[0m\u001b[0mdisplay_args\u001b[0m\u001b[0;34m,\u001b[0m \u001b[0mparent\u001b[0m\u001b[0;34m=\u001b[0m\u001b[0mshell\u001b[0m\u001b[0;34m.\u001b[0m\u001b[0mparent_header\u001b[0m\u001b[0;34m)\u001b[0m\u001b[0;34m\u001b[0m\u001b[0;34m\u001b[0m\u001b[0m\n\u001b[0m\u001b[1;32m    342\u001b[0m \u001b[0;34m\u001b[0m\u001b[0m\n\u001b[1;32m    343\u001b[0m   \u001b[0;32mdef\u001b[0m \u001b[0mecho_updater\u001b[0m\u001b[0;34m(\u001b[0m\u001b[0mnew_echo_status\u001b[0m\u001b[0;34m)\u001b[0m\u001b[0;34m:\u001b[0m\u001b[0;34m\u001b[0m\u001b[0;34m\u001b[0m\u001b[0m\n",
            "\u001b[0;32m/usr/local/lib/python3.6/dist-packages/google/colab/_message.py\u001b[0m in \u001b[0;36mblocking_request\u001b[0;34m(request_type, request, timeout_sec, parent)\u001b[0m\n\u001b[1;32m    169\u001b[0m   \u001b[0;31m# unique.\u001b[0m\u001b[0;34m\u001b[0m\u001b[0;34m\u001b[0m\u001b[0;34m\u001b[0m\u001b[0m\n\u001b[1;32m    170\u001b[0m   \u001b[0mrequest_id\u001b[0m \u001b[0;34m=\u001b[0m \u001b[0msend_request\u001b[0m\u001b[0;34m(\u001b[0m\u001b[0mrequest_type\u001b[0m\u001b[0;34m,\u001b[0m \u001b[0mrequest\u001b[0m\u001b[0;34m,\u001b[0m \u001b[0mparent\u001b[0m\u001b[0;34m=\u001b[0m\u001b[0mparent\u001b[0m\u001b[0;34m)\u001b[0m\u001b[0;34m\u001b[0m\u001b[0;34m\u001b[0m\u001b[0m\n\u001b[0;32m--> 171\u001b[0;31m   \u001b[0;32mreturn\u001b[0m \u001b[0mread_reply_from_input\u001b[0m\u001b[0;34m(\u001b[0m\u001b[0mrequest_id\u001b[0m\u001b[0;34m,\u001b[0m \u001b[0mtimeout_sec\u001b[0m\u001b[0;34m)\u001b[0m\u001b[0;34m\u001b[0m\u001b[0;34m\u001b[0m\u001b[0m\n\u001b[0m",
            "\u001b[0;32m/usr/local/lib/python3.6/dist-packages/google/colab/_message.py\u001b[0m in \u001b[0;36mread_reply_from_input\u001b[0;34m(message_id, timeout_sec)\u001b[0m\n\u001b[1;32m     99\u001b[0m     \u001b[0mreply\u001b[0m \u001b[0;34m=\u001b[0m \u001b[0m_read_next_input_message\u001b[0m\u001b[0;34m(\u001b[0m\u001b[0;34m)\u001b[0m\u001b[0;34m\u001b[0m\u001b[0;34m\u001b[0m\u001b[0m\n\u001b[1;32m    100\u001b[0m     \u001b[0;32mif\u001b[0m \u001b[0mreply\u001b[0m \u001b[0;34m==\u001b[0m \u001b[0m_NOT_READY\u001b[0m \u001b[0;32mor\u001b[0m \u001b[0;32mnot\u001b[0m \u001b[0misinstance\u001b[0m\u001b[0;34m(\u001b[0m\u001b[0mreply\u001b[0m\u001b[0;34m,\u001b[0m \u001b[0mdict\u001b[0m\u001b[0;34m)\u001b[0m\u001b[0;34m:\u001b[0m\u001b[0;34m\u001b[0m\u001b[0;34m\u001b[0m\u001b[0m\n\u001b[0;32m--> 101\u001b[0;31m       \u001b[0mtime\u001b[0m\u001b[0;34m.\u001b[0m\u001b[0msleep\u001b[0m\u001b[0;34m(\u001b[0m\u001b[0;36m0.025\u001b[0m\u001b[0;34m)\u001b[0m\u001b[0;34m\u001b[0m\u001b[0;34m\u001b[0m\u001b[0m\n\u001b[0m\u001b[1;32m    102\u001b[0m       \u001b[0;32mcontinue\u001b[0m\u001b[0;34m\u001b[0m\u001b[0;34m\u001b[0m\u001b[0m\n\u001b[1;32m    103\u001b[0m     if (reply.get('type') == 'colab_reply' and\n",
            "\u001b[0;31mKeyboardInterrupt\u001b[0m: "
          ]
        }
      ]
    },
    {
      "cell_type": "code",
      "metadata": {
        "id": "cmlWY8tvUMwP",
        "colab_type": "code",
        "colab": {}
      },
      "source": [
        "import torch\n",
        "from torch import nn, optim\n",
        "import torch.nn.functional as F\n",
        "import matplotlib.pyplot as plt\n",
        "import sys\n",
        "import time\n",
        "import numpy as np\n",
        "import math\n",
        "import pandas as pd\n",
        "from datetime import datetime\n",
        "from torch.autograd import Variable\n",
        "from torch.utils.data import Dataset, DataLoader\n",
        "import random\n",
        "import datetime"
      ],
      "execution_count": 0,
      "outputs": []
    },
    {
      "cell_type": "code",
      "metadata": {
        "id": "xMeZtGPOve2W",
        "colab_type": "code",
        "colab": {}
      },
      "source": [
        "# items = pd.read_csv('data/items.csv')\n",
        "# shops = pd.read_csv('data/shops.csv')\n",
        "# cats = pd.read_csv('data/item_categories.csv')\n",
        "train = pd.read_csv('data/sales_train.csv', parse_dates=['date'], infer_datetime_format=True, dayfirst=True)\n",
        "\n",
        "test  = pd.read_csv('data/test.csv').set_index('ID')"
      ],
      "execution_count": 0,
      "outputs": []
    },
    {
      "cell_type": "code",
      "metadata": {
        "id": "WrrEclBov0w_",
        "colab_type": "code",
        "outputId": "996403bf-d933-408c-c061-fb54bb68e93a",
        "colab": {
          "base_uri": "https://localhost:8080/",
          "height": 414
        }
      },
      "source": [
        "print ('number of shops: ', train['shop_id'].max())\n",
        "\n",
        "num_items = train['item_id'].max()\n",
        "print ('number of items: ', num_items)\n",
        "num_month = train['date_block_num'].max()\n",
        "print ('number of month: ', num_month)\n",
        "print ('size of train: ', train.shape)\n",
        "train[:10]"
      ],
      "execution_count": 0,
      "outputs": [
        {
          "output_type": "stream",
          "text": [
            "number of shops:  59\n",
            "number of items:  22169\n",
            "number of month:  33\n",
            "size of train:  (2935849, 6)\n"
          ],
          "name": "stdout"
        },
        {
          "output_type": "execute_result",
          "data": {
            "text/html": [
              "<div>\n",
              "<style scoped>\n",
              "    .dataframe tbody tr th:only-of-type {\n",
              "        vertical-align: middle;\n",
              "    }\n",
              "\n",
              "    .dataframe tbody tr th {\n",
              "        vertical-align: top;\n",
              "    }\n",
              "\n",
              "    .dataframe thead th {\n",
              "        text-align: right;\n",
              "    }\n",
              "</style>\n",
              "<table border=\"1\" class=\"dataframe\">\n",
              "  <thead>\n",
              "    <tr style=\"text-align: right;\">\n",
              "      <th></th>\n",
              "      <th>date</th>\n",
              "      <th>date_block_num</th>\n",
              "      <th>shop_id</th>\n",
              "      <th>item_id</th>\n",
              "      <th>item_price</th>\n",
              "      <th>item_cnt_day</th>\n",
              "    </tr>\n",
              "  </thead>\n",
              "  <tbody>\n",
              "    <tr>\n",
              "      <th>0</th>\n",
              "      <td>2013-01-02</td>\n",
              "      <td>0</td>\n",
              "      <td>59</td>\n",
              "      <td>22154</td>\n",
              "      <td>999.00</td>\n",
              "      <td>1.0</td>\n",
              "    </tr>\n",
              "    <tr>\n",
              "      <th>1</th>\n",
              "      <td>2013-01-03</td>\n",
              "      <td>0</td>\n",
              "      <td>25</td>\n",
              "      <td>2552</td>\n",
              "      <td>899.00</td>\n",
              "      <td>1.0</td>\n",
              "    </tr>\n",
              "    <tr>\n",
              "      <th>2</th>\n",
              "      <td>2013-01-05</td>\n",
              "      <td>0</td>\n",
              "      <td>25</td>\n",
              "      <td>2552</td>\n",
              "      <td>899.00</td>\n",
              "      <td>-1.0</td>\n",
              "    </tr>\n",
              "    <tr>\n",
              "      <th>3</th>\n",
              "      <td>2013-01-06</td>\n",
              "      <td>0</td>\n",
              "      <td>25</td>\n",
              "      <td>2554</td>\n",
              "      <td>1709.05</td>\n",
              "      <td>1.0</td>\n",
              "    </tr>\n",
              "    <tr>\n",
              "      <th>4</th>\n",
              "      <td>2013-01-15</td>\n",
              "      <td>0</td>\n",
              "      <td>25</td>\n",
              "      <td>2555</td>\n",
              "      <td>1099.00</td>\n",
              "      <td>1.0</td>\n",
              "    </tr>\n",
              "    <tr>\n",
              "      <th>5</th>\n",
              "      <td>2013-01-10</td>\n",
              "      <td>0</td>\n",
              "      <td>25</td>\n",
              "      <td>2564</td>\n",
              "      <td>349.00</td>\n",
              "      <td>1.0</td>\n",
              "    </tr>\n",
              "    <tr>\n",
              "      <th>6</th>\n",
              "      <td>2013-01-02</td>\n",
              "      <td>0</td>\n",
              "      <td>25</td>\n",
              "      <td>2565</td>\n",
              "      <td>549.00</td>\n",
              "      <td>1.0</td>\n",
              "    </tr>\n",
              "    <tr>\n",
              "      <th>7</th>\n",
              "      <td>2013-01-04</td>\n",
              "      <td>0</td>\n",
              "      <td>25</td>\n",
              "      <td>2572</td>\n",
              "      <td>239.00</td>\n",
              "      <td>1.0</td>\n",
              "    </tr>\n",
              "    <tr>\n",
              "      <th>8</th>\n",
              "      <td>2013-01-11</td>\n",
              "      <td>0</td>\n",
              "      <td>25</td>\n",
              "      <td>2572</td>\n",
              "      <td>299.00</td>\n",
              "      <td>1.0</td>\n",
              "    </tr>\n",
              "    <tr>\n",
              "      <th>9</th>\n",
              "      <td>2013-01-03</td>\n",
              "      <td>0</td>\n",
              "      <td>25</td>\n",
              "      <td>2573</td>\n",
              "      <td>299.00</td>\n",
              "      <td>3.0</td>\n",
              "    </tr>\n",
              "  </tbody>\n",
              "</table>\n",
              "</div>"
            ],
            "text/plain": [
              "        date  date_block_num  shop_id  item_id  item_price  item_cnt_day\n",
              "0 2013-01-02               0       59    22154      999.00           1.0\n",
              "1 2013-01-03               0       25     2552      899.00           1.0\n",
              "2 2013-01-05               0       25     2552      899.00          -1.0\n",
              "3 2013-01-06               0       25     2554     1709.05           1.0\n",
              "4 2013-01-15               0       25     2555     1099.00           1.0\n",
              "5 2013-01-10               0       25     2564      349.00           1.0\n",
              "6 2013-01-02               0       25     2565      549.00           1.0\n",
              "7 2013-01-04               0       25     2572      239.00           1.0\n",
              "8 2013-01-11               0       25     2572      299.00           1.0\n",
              "9 2013-01-03               0       25     2573      299.00           3.0"
            ]
          },
          "metadata": {
            "tags": []
          },
          "execution_count": 35
        }
      ]
    },
    {
      "cell_type": "code",
      "metadata": {
        "id": "8NdEi01eM5I-",
        "colab_type": "code",
        "outputId": "c8e0deee-56b2-43dd-e892-f3c845a8b9eb",
        "colab": {
          "base_uri": "https://localhost:8080/",
          "height": 195
        }
      },
      "source": [
        "train_num = train.groupby(['date_block_num']).sum().reset_index()\n",
        "train_num[:5]"
      ],
      "execution_count": 0,
      "outputs": [
        {
          "output_type": "execute_result",
          "data": {
            "text/html": [
              "<div>\n",
              "<style scoped>\n",
              "    .dataframe tbody tr th:only-of-type {\n",
              "        vertical-align: middle;\n",
              "    }\n",
              "\n",
              "    .dataframe tbody tr th {\n",
              "        vertical-align: top;\n",
              "    }\n",
              "\n",
              "    .dataframe thead th {\n",
              "        text-align: right;\n",
              "    }\n",
              "</style>\n",
              "<table border=\"1\" class=\"dataframe\">\n",
              "  <thead>\n",
              "    <tr style=\"text-align: right;\">\n",
              "      <th></th>\n",
              "      <th>date_block_num</th>\n",
              "      <th>shop_id</th>\n",
              "      <th>item_id</th>\n",
              "      <th>item_price</th>\n",
              "      <th>item_cnt_day</th>\n",
              "    </tr>\n",
              "  </thead>\n",
              "  <tbody>\n",
              "    <tr>\n",
              "      <th>0</th>\n",
              "      <td>0</td>\n",
              "      <td>3417068</td>\n",
              "      <td>1183971787</td>\n",
              "      <td>8.221187e+07</td>\n",
              "      <td>131479.0</td>\n",
              "    </tr>\n",
              "    <tr>\n",
              "      <th>1</th>\n",
              "      <td>1</td>\n",
              "      <td>3111582</td>\n",
              "      <td>1076043980</td>\n",
              "      <td>7.558019e+07</td>\n",
              "      <td>128090.0</td>\n",
              "    </tr>\n",
              "    <tr>\n",
              "      <th>2</th>\n",
              "      <td>2</td>\n",
              "      <td>4016457</td>\n",
              "      <td>1220911622</td>\n",
              "      <td>8.429831e+07</td>\n",
              "      <td>147142.0</td>\n",
              "    </tr>\n",
              "    <tr>\n",
              "      <th>3</th>\n",
              "      <td>3</td>\n",
              "      <td>3164978</td>\n",
              "      <td>971345965</td>\n",
              "      <td>6.151282e+07</td>\n",
              "      <td>107190.0</td>\n",
              "    </tr>\n",
              "    <tr>\n",
              "      <th>4</th>\n",
              "      <td>4</td>\n",
              "      <td>3093999</td>\n",
              "      <td>950372988</td>\n",
              "      <td>5.727413e+07</td>\n",
              "      <td>106970.0</td>\n",
              "    </tr>\n",
              "  </tbody>\n",
              "</table>\n",
              "</div>"
            ],
            "text/plain": [
              "   date_block_num  shop_id     item_id    item_price  item_cnt_day\n",
              "0               0  3417068  1183971787  8.221187e+07      131479.0\n",
              "1               1  3111582  1076043980  7.558019e+07      128090.0\n",
              "2               2  4016457  1220911622  8.429831e+07      147142.0\n",
              "3               3  3164978   971345965  6.151282e+07      107190.0\n",
              "4               4  3093999   950372988  5.727413e+07      106970.0"
            ]
          },
          "metadata": {
            "tags": []
          },
          "execution_count": 36
        }
      ]
    },
    {
      "cell_type": "code",
      "metadata": {
        "id": "7L88wSlAPxCV",
        "colab_type": "code",
        "outputId": "de7a5893-b9b3-43c8-a85c-6e92ab419357",
        "colab": {
          "base_uri": "https://localhost:8080/",
          "height": 195
        }
      },
      "source": [
        "train_num = train_num.drop(labels=['shop_id', 'item_id','item_price'], axis=1)\n",
        "train_num[:5]"
      ],
      "execution_count": 0,
      "outputs": [
        {
          "output_type": "execute_result",
          "data": {
            "text/html": [
              "<div>\n",
              "<style scoped>\n",
              "    .dataframe tbody tr th:only-of-type {\n",
              "        vertical-align: middle;\n",
              "    }\n",
              "\n",
              "    .dataframe tbody tr th {\n",
              "        vertical-align: top;\n",
              "    }\n",
              "\n",
              "    .dataframe thead th {\n",
              "        text-align: right;\n",
              "    }\n",
              "</style>\n",
              "<table border=\"1\" class=\"dataframe\">\n",
              "  <thead>\n",
              "    <tr style=\"text-align: right;\">\n",
              "      <th></th>\n",
              "      <th>date_block_num</th>\n",
              "      <th>item_cnt_day</th>\n",
              "    </tr>\n",
              "  </thead>\n",
              "  <tbody>\n",
              "    <tr>\n",
              "      <th>0</th>\n",
              "      <td>0</td>\n",
              "      <td>131479.0</td>\n",
              "    </tr>\n",
              "    <tr>\n",
              "      <th>1</th>\n",
              "      <td>1</td>\n",
              "      <td>128090.0</td>\n",
              "    </tr>\n",
              "    <tr>\n",
              "      <th>2</th>\n",
              "      <td>2</td>\n",
              "      <td>147142.0</td>\n",
              "    </tr>\n",
              "    <tr>\n",
              "      <th>3</th>\n",
              "      <td>3</td>\n",
              "      <td>107190.0</td>\n",
              "    </tr>\n",
              "    <tr>\n",
              "      <th>4</th>\n",
              "      <td>4</td>\n",
              "      <td>106970.0</td>\n",
              "    </tr>\n",
              "  </tbody>\n",
              "</table>\n",
              "</div>"
            ],
            "text/plain": [
              "   date_block_num  item_cnt_day\n",
              "0               0      131479.0\n",
              "1               1      128090.0\n",
              "2               2      147142.0\n",
              "3               3      107190.0\n",
              "4               4      106970.0"
            ]
          },
          "metadata": {
            "tags": []
          },
          "execution_count": 37
        }
      ]
    },
    {
      "cell_type": "code",
      "metadata": {
        "id": "Dk--t5reQBwv",
        "colab_type": "code",
        "outputId": "b6cad29d-924b-4627-edfb-502926c80c4a",
        "colab": {
          "base_uri": "https://localhost:8080/",
          "height": 615
        }
      },
      "source": [
        "t = np.array(train_num).astype('float')\n",
        "print(t)"
      ],
      "execution_count": 0,
      "outputs": [
        {
          "output_type": "stream",
          "text": [
            "[[0.00000e+00 1.31479e+05]\n",
            " [1.00000e+00 1.28090e+05]\n",
            " [2.00000e+00 1.47142e+05]\n",
            " [3.00000e+00 1.07190e+05]\n",
            " [4.00000e+00 1.06970e+05]\n",
            " [5.00000e+00 1.25381e+05]\n",
            " [6.00000e+00 1.16966e+05]\n",
            " [7.00000e+00 1.25291e+05]\n",
            " [8.00000e+00 1.33332e+05]\n",
            " [9.00000e+00 1.27541e+05]\n",
            " [1.00000e+01 1.30009e+05]\n",
            " [1.10000e+01 1.83342e+05]\n",
            " [1.20000e+01 1.16899e+05]\n",
            " [1.30000e+01 1.09687e+05]\n",
            " [1.40000e+01 1.15297e+05]\n",
            " [1.50000e+01 9.65560e+04]\n",
            " [1.60000e+01 9.77900e+04]\n",
            " [1.70000e+01 9.74290e+04]\n",
            " [1.80000e+01 9.12800e+04]\n",
            " [1.90000e+01 1.02721e+05]\n",
            " [2.00000e+01 9.92080e+04]\n",
            " [2.10000e+01 1.07422e+05]\n",
            " [2.20000e+01 1.17845e+05]\n",
            " [2.30000e+01 1.68755e+05]\n",
            " [2.40000e+01 1.10971e+05]\n",
            " [2.50000e+01 8.41980e+04]\n",
            " [2.60000e+01 8.20140e+04]\n",
            " [2.70000e+01 7.78270e+04]\n",
            " [2.80000e+01 7.22950e+04]\n",
            " [2.90000e+01 6.41140e+04]\n",
            " [3.00000e+01 6.31870e+04]\n",
            " [3.10000e+01 6.60790e+04]\n",
            " [3.20000e+01 7.28430e+04]\n",
            " [3.30000e+01 7.10560e+04]]\n"
          ],
          "name": "stdout"
        }
      ]
    },
    {
      "cell_type": "code",
      "metadata": {
        "id": "a8qLV-65QdE4",
        "colab_type": "code",
        "outputId": "0d431d02-f05a-41c0-ec3e-2e36fd73449f",
        "colab": {
          "base_uri": "https://localhost:8080/",
          "height": 269
        }
      },
      "source": [
        "# print(t[:,1])\n",
        "t = t[:,1]\n",
        "plt.plot(t)\n",
        "plt.show()"
      ],
      "execution_count": 0,
      "outputs": [
        {
          "output_type": "display_data",
          "data": {
            "image/png": "[encoded data removed]",
            "text/plain": [
              "<Figure size 432x288 with 1 Axes>"
            ]
          },
          "metadata": {
            "tags": []
          }
        }
      ]
    },
    {
      "cell_type": "code",
      "metadata": {
        "id": "41TF0-HRZCuF",
        "colab_type": "code",
        "colab": {}
      },
      "source": [
        "def max_min_normalization(x):\n",
        "    return np.array([(float(i)-min(x))/float(max(x)-min(x)) for i in x])\n",
        "  \n",
        "def de_normalization(original,x):\n",
        "    return float(x)*(float(max(original)-min(original)))+min(original)"
      ],
      "execution_count": 0,
      "outputs": []
    },
    {
      "cell_type": "code",
      "metadata": {
        "id": "NSgQHg8SSROx",
        "colab_type": "code",
        "outputId": "e887ddb5-d37c-4963-cd75-7b72d9f6a57e",
        "colab": {
          "base_uri": "https://localhost:8080/",
          "height": 374
        }
      },
      "source": [
        "from sklearn import preprocessing\n",
        "\n",
        "T = t\n",
        "\n",
        "t = max_min_normalization(t)\n",
        "\n",
        "print(t)\n",
        "\n",
        "plt.plot(t)\n",
        "plt.show()"
      ],
      "execution_count": 0,
      "outputs": [
        {
          "output_type": "stream",
          "text": [
            "[0.56836586 0.54016063 0.69872248 0.36621863 0.36438767 0.51761475\n",
            " 0.44758021 0.51686572 0.58378761 0.53559153 0.55613166 1.\n",
            " 0.4470226  0.38700012 0.43368982 0.27771628 0.28798635 0.2849819\n",
            " 0.23380633 0.32902501 0.29978777 0.36814947 0.45489576 0.87859848\n",
            " 0.39768632 0.1748658  0.15668928 0.12184262 0.07580209 0.00771503\n",
            " 0.         0.02406891 0.08036286 0.06549041]\n"
          ],
          "name": "stdout"
        },
        {
          "output_type": "display_data",
          "data": {
            "image/png": "[encoded data removed]",
            "text/plain": [
              "<Figure size 432x288 with 1 Axes>"
            ]
          },
          "metadata": {
            "tags": []
          }
        }
      ]
    },
    {
      "cell_type": "code",
      "metadata": {
        "id": "p9gPuYNOUPGO",
        "colab_type": "code",
        "colab": {}
      },
      "source": [
        "def create_dataset(dataset,on,look_back=2):\n",
        "    dataX, dataY=[], []\n",
        "    for i in range(len(dataset)-look_back):\n",
        "        a=dataset[i:(i+look_back)]\n",
        "        dataX.append(a)\n",
        "        \n",
        "        #dataX.append()\n",
        "        dataY.append(dataset[i+look_back])\n",
        "    return np.array(dataX), np.array(dataY)"
      ],
      "execution_count": 0,
      "outputs": []
    },
    {
      "cell_type": "code",
      "metadata": {
        "id": "CdmwmzFNUT1G",
        "colab_type": "code",
        "outputId": "48e781c4-d117-4e6b-d38c-8acb74ad2820",
        "colab": {
          "base_uri": "https://localhost:8080/",
          "height": 351
        }
      },
      "source": [
        "train_X1 ,train_Y1 = create_dataset(t.reshape(len(t),1),2)\n",
        "print(train_X1[:5])\n",
        "print(train_Y1[:5])"
      ],
      "execution_count": 0,
      "outputs": [
        {
          "output_type": "stream",
          "text": [
            "[[[0.56836586]\n",
            "  [0.54016063]]\n",
            "\n",
            " [[0.54016063]\n",
            "  [0.69872248]]\n",
            "\n",
            " [[0.69872248]\n",
            "  [0.36621863]]\n",
            "\n",
            " [[0.36621863]\n",
            "  [0.36438767]]\n",
            "\n",
            " [[0.36438767]\n",
            "  [0.51761475]]]\n",
            "[[0.69872248]\n",
            " [0.36621863]\n",
            " [0.36438767]\n",
            " [0.51761475]\n",
            " [0.44758021]]\n"
          ],
          "name": "stdout"
        }
      ]
    },
    {
      "cell_type": "code",
      "metadata": {
        "id": "en1VSt6bWShQ",
        "colab_type": "code",
        "colab": {}
      },
      "source": [
        "train_x1 = train_X1.reshape(-1,1,2)\n",
        "train_y1 = train_Y1.reshape(-1,1,1)\n",
        "\n",
        "train_x1 = Variable(torch.from_numpy(train_x1)).float()\n",
        "train_y1 = Variable(torch.from_numpy(train_y1)).float()"
      ],
      "execution_count": 0,
      "outputs": []
    },
    {
      "cell_type": "code",
      "metadata": {
        "id": "D8UCCj-tWe3w",
        "colab_type": "code",
        "colab": {}
      },
      "source": [
        "class lstm_reg(torch.nn.Module):\n",
        "  \n",
        "  def __init__(self,input_size,hidden_size, output_size=1,num_layers=2):\n",
        "    super(lstm_reg,self).__init__()\n",
        "\n",
        "    self.rnn = torch.nn.LSTM(input_size,hidden_size,num_layers)\n",
        "    self.reg = torch.nn.Linear(hidden_size,output_size)\n",
        "\n",
        "  def forward(self,x):\n",
        "    x, _ = self.rnn(x)\n",
        "    s,b,h = x.shape\n",
        "    x = x.view(s*b, h)\n",
        "    x = self.reg(x)\n",
        "    x = x.view(s,b,-1)\n",
        "    return x"
      ],
      "execution_count": 0,
      "outputs": []
    },
    {
      "cell_type": "code",
      "metadata": {
        "id": "rVONmLixWkY4",
        "colab_type": "code",
        "colab": {}
      },
      "source": [
        "net1 = lstm_reg(2,8).cuda()\n",
        "criterion = torch.nn.MSELoss()\n",
        "optimizer1 = torch.optim.Adam(net1.parameters(),lr=1.5e-2)"
      ],
      "execution_count": 0,
      "outputs": []
    },
    {
      "cell_type": "code",
      "metadata": {
        "id": "isE0hPeXXCmd",
        "colab_type": "code",
        "colab": {}
      },
      "source": [
        "EPOCH = 10000"
      ],
      "execution_count": 0,
      "outputs": []
    },
    {
      "cell_type": "code",
      "metadata": {
        "id": "5FExjOKwW9Fr",
        "colab_type": "code",
        "outputId": "0325c7cd-cbf6-4415-dc3f-fe697aee9d8d",
        "colab": {
          "base_uri": "https://localhost:8080/",
          "height": 369
        }
      },
      "source": [
        "for e in range(EPOCH):\n",
        "  var_x1 = Variable(train_x1).cuda()\n",
        "  var_y1 = Variable(train_y1).cuda()\n",
        "\n",
        "  out = net1(var_x1)\n",
        "  loss = criterion(out, var_y1)\n",
        "\n",
        "  optimizer1.zero_grad()\n",
        "  loss.backward()\n",
        "  optimizer1.step()\n",
        "  if (e+1)%500 == 0:\n",
        "      print('Epoch: {}, Loss:{:.8f}'.format(e+1, loss.data.cpu()))"
      ],
      "execution_count": 0,
      "outputs": [
        {
          "output_type": "stream",
          "text": [
            "Epoch: 500, Loss:0.00066892\n",
            "Epoch: 1000, Loss:0.00006689\n",
            "Epoch: 1500, Loss:0.00000088\n",
            "Epoch: 2000, Loss:0.00000001\n",
            "Epoch: 2500, Loss:0.00001186\n",
            "Epoch: 3000, Loss:0.01886929\n",
            "Epoch: 3500, Loss:0.00089942\n",
            "Epoch: 4000, Loss:0.00002662\n",
            "Epoch: 4500, Loss:0.00000166\n",
            "Epoch: 5000, Loss:0.00000853\n",
            "Epoch: 5500, Loss:0.00000047\n",
            "Epoch: 6000, Loss:0.00000018\n",
            "Epoch: 6500, Loss:0.00000007\n",
            "Epoch: 7000, Loss:0.00000067\n",
            "Epoch: 7500, Loss:0.00000002\n",
            "Epoch: 8000, Loss:0.00000010\n",
            "Epoch: 8500, Loss:0.00011248\n",
            "Epoch: 9000, Loss:0.00000001\n",
            "Epoch: 9500, Loss:0.00000001\n",
            "Epoch: 10000, Loss:0.00002789\n"
          ],
          "name": "stdout"
        }
      ]
    },
    {
      "cell_type": "code",
      "metadata": {
        "id": "fX2MahoOW9NN",
        "colab_type": "code",
        "colab": {}
      },
      "source": [
        "p1 = net1(Variable(train_x1).cuda())\n",
        "p1 = p1.view(-1).data.cpu().numpy()"
      ],
      "execution_count": 0,
      "outputs": []
    },
    {
      "cell_type": "code",
      "metadata": {
        "id": "BdZkEwyFW9Pr",
        "colab_type": "code",
        "colab": {}
      },
      "source": [
        "def appendPrediction(NET,Data,week):#7 week\n",
        "  for i in range(week):\n",
        "    length  = len(Data)\n",
        "    pre_in = np.array([[Data[length-2],Data[length-1]]])\n",
        "    #print(length)\n",
        "    \n",
        "    pre_in = torch.unsqueeze(torch.from_numpy(pre_in), dim=1).float().cuda()\n",
        "    #print(pre_in)\n",
        "    peak_add = NET(pre_in).view(-1).data.cpu().numpy()[0]\n",
        "    #print(peak_add)\n",
        "    Data = np.append(Data,peak_add)\n",
        "    \n",
        "  return Data"
      ],
      "execution_count": 0,
      "outputs": []
    },
    {
      "cell_type": "code",
      "metadata": {
        "id": "xvMhx0ULXpIs",
        "colab_type": "code",
        "colab": {}
      },
      "source": [
        "p1 = appendPrediction(net1,p1,1)"
      ],
      "execution_count": 0,
      "outputs": []
    },
    {
      "cell_type": "code",
      "metadata": {
        "id": "Twr98IeQXySj",
        "colab_type": "code",
        "outputId": "12ffb552-0aba-471d-d7ef-a339327a040d",
        "colab": {
          "base_uri": "https://localhost:8080/",
          "height": 355
        }
      },
      "source": [
        "fig = plt.figure(figsize=(10,22),dpi=120)\n",
        "ax1 = fig.add_subplot(7,1,1)\n",
        "\n",
        "ax1.plot(t, lw=1, c='g', label='real')\n",
        "ax1.plot(p1, lw=1, c='r', label='prediction')\n",
        "ax1.set_title('predict')"
      ],
      "execution_count": 0,
      "outputs": [
        {
          "output_type": "execute_result",
          "data": {
            "text/plain": [
              "Text(0.5, 1.0, 'predict')"
            ]
          },
          "metadata": {
            "tags": []
          },
          "execution_count": 70
        },
        {
          "output_type": "display_data",
          "data": {
            "image/png": "[encoded data removed]",
            "text/plain": [
              "<Figure size 1200x2640 with 1 Axes>"
            ]
          },
          "metadata": {
            "tags": []
          }
        }
      ]
    },
    {
      "cell_type": "code",
      "metadata": {
        "id": "OglrpWjCaUyw",
        "colab_type": "code",
        "outputId": "73de4884-3608-4013-e357-930321cf08c8",
        "colab": {
          "base_uri": "https://localhost:8080/",
          "height": 34
        }
      },
      "source": [
        "print(de_normalization(T,p1[len(p1)-2]))"
      ],
      "execution_count": 0,
      "outputs": [
        {
          "output_type": "stream",
          "text": [
            "70550.23951259255\n"
          ],
          "name": "stdout"
        }
      ]
    },
    {
      "cell_type": "code",
      "metadata": {
        "id": "OaSqIT8ZZ0bw",
        "colab_type": "code",
        "outputId": "dceac9eb-90ea-4c2e-da13-4fb1c768ce85",
        "colab": {
          "base_uri": "https://localhost:8080/",
          "height": 34
        }
      },
      "source": [
        "t_result = de_normalization(T,p1[len(p1)-1])\n",
        "print('The total sale at 2015-11 : '+ format(t_result) )"
      ],
      "execution_count": 0,
      "outputs": [
        {
          "output_type": "stream",
          "text": [
            "The total sale at 2015-11 : 102615.89955744147\n"
          ],
          "name": "stdout"
        }
      ]
    },
    {
      "cell_type": "code",
      "metadata": {
        "id": "IsixHRcn-aM5",
        "colab_type": "code",
        "colab": {}
      },
      "source": [
        "def creatFullarray(length,data,is_average=False):\n",
        "  #print(length)\n",
        "  a = np.arange(length)\n",
        "  a = np.append([a],[np.zeros(length)],axis=0)\n",
        "  a = np.transpose(a)\n",
        "  ind = 0\n",
        "  for n in range(length-1):\n",
        "    if n == data[ind,0]:\n",
        "      #print('get n : '+format(n))\n",
        "      a[n,1] = data[ind,1]\n",
        "      if ind<(len(data)-1):\n",
        "        ind = ind + 1\n",
        "        #print(ind)\n",
        "  if is_average:\n",
        "    a1 = a[:,0]\n",
        "    a2 = a[:,1]\n",
        "    #print(a2)\n",
        "    #a2 = np.array([(float(i)-np.min(a2))/float(np.max(a2)-np.min(a2)) for i in a2])\n",
        "    a2 = a2*(1/np.sum(a2))\n",
        "    a = np.append([a1],[a2],axis=0)\n",
        "    a = np.transpose(a)\n",
        "  return a"
      ],
      "execution_count": 0,
      "outputs": []
    },
    {
      "cell_type": "code",
      "metadata": {
        "colab_type": "code",
        "id": "joKZEVBtPBNP",
        "colab": {}
      },
      "source": [
        "train_per = train.groupby(['date_block_num','item_id']).sum().reset_index()\n",
        "train_per = train_per.drop(labels=['shop_id','item_price'], axis=1)"
      ],
      "execution_count": 0,
      "outputs": []
    },
    {
      "cell_type": "code",
      "metadata": {
        "id": "6Gdcn9RLrxlj",
        "colab_type": "code",
        "outputId": "58ecb86e-8555-4b19-b454-15a3280b81c7",
        "colab": {
          "base_uri": "https://localhost:8080/",
          "height": 140
        }
      },
      "source": [
        "a = []\n",
        "for n in range(num_month):\n",
        "  #print(n)\n",
        "  s = train_per.loc[train_per['date_block_num'] == n]\n",
        "  s = s.drop(labels=['date_block_num'], axis=1)\n",
        "  s = np.array(s)\n",
        "  \n",
        "  s = creatFullarray(num_items,s,is_average=False)\n",
        "  \n",
        "  s = s[:,1]\n",
        "  a.append(s)\n",
        "print(np.array(a))\n",
        "\n",
        "# print(len(a))"
      ],
      "execution_count": 0,
      "outputs": [
        {
          "output_type": "stream",
          "text": [
            "[[ 0.  0.  0. ...  0.  0.  0.]\n",
            " [ 0.  0.  0. ...  0.  0.  0.]\n",
            " [ 0.  0.  0. ...  0.  0.  0.]\n",
            " ...\n",
            " [ 0.  0.  0. ...  8. 34.  0.]\n",
            " [ 0.  0.  0. ... 11. 29.  0.]\n",
            " [ 0.  0.  0. ...  5. 21.  0.]]\n"
          ],
          "name": "stdout"
        }
      ]
    },
    {
      "cell_type": "code",
      "metadata": {
        "id": "FasDtyGQOB7C",
        "colab_type": "code",
        "outputId": "dd672404-3390-4215-c05b-e173221185a2",
        "colab": {
          "base_uri": "https://localhost:8080/",
          "height": 351
        }
      },
      "source": [
        "train_X2 ,train_Y2 = create_dataset(np.array(a),2)\n",
        "print(train_X2[:5])\n",
        "print(train_Y2[:5])"
      ],
      "execution_count": 0,
      "outputs": [
        {
          "output_type": "stream",
          "text": [
            "[[[0. 0. 0. ... 0. 0. 0.]\n",
            "  [0. 0. 0. ... 0. 0. 0.]]\n",
            "\n",
            " [[0. 0. 0. ... 0. 0. 0.]\n",
            "  [0. 0. 0. ... 0. 0. 0.]]\n",
            "\n",
            " [[0. 0. 0. ... 0. 0. 0.]\n",
            "  [0. 0. 0. ... 0. 0. 0.]]\n",
            "\n",
            " [[0. 0. 0. ... 0. 0. 0.]\n",
            "  [0. 0. 0. ... 0. 0. 0.]]\n",
            "\n",
            " [[0. 0. 0. ... 0. 0. 0.]\n",
            "  [0. 0. 0. ... 0. 0. 0.]]]\n",
            "[[0. 0. 0. ... 0. 0. 0.]\n",
            " [0. 0. 0. ... 0. 0. 0.]\n",
            " [0. 0. 0. ... 0. 0. 0.]\n",
            " [0. 0. 0. ... 0. 0. 0.]\n",
            " [0. 0. 0. ... 0. 0. 0.]]\n"
          ],
          "name": "stdout"
        }
      ]
    },
    {
      "cell_type": "code",
      "metadata": {
        "id": "pZVHSsSBSi7a",
        "colab_type": "code",
        "colab": {}
      },
      "source": [
        "class MyDataset(Dataset):\n",
        "  def __init__(self, qua, ans):\n",
        "    self.Q = qua\n",
        "    self.A = ans\n",
        "\n",
        "  def __len__(self):\n",
        "    return len(self.A)\n",
        "\n",
        "  def __getitem__(self, idx):\n",
        "      q = self.Q[idx]\n",
        "      a = self.A[idx]\n",
        "      return q,a"
      ],
      "execution_count": 0,
      "outputs": []
    },
    {
      "cell_type": "code",
      "metadata": {
        "id": "jgGT2OggQXKj",
        "colab_type": "code",
        "colab": {}
      },
      "source": [
        "train_x2 = train_X2.reshape(-1,1,2)\n",
        "train_y2 = train_Y2.reshape(-1,1,1)"
      ],
      "execution_count": 0,
      "outputs": []
    },
    {
      "cell_type": "code",
      "metadata": {
        "id": "qa7C2tuRSjwW",
        "colab_type": "code",
        "colab": {}
      },
      "source": [
        "train_dataloader = DataLoader(MyDataset(train_x2,train_y2),batch_size=500, shuffle=True)"
      ],
      "execution_count": 0,
      "outputs": []
    },
    {
      "cell_type": "code",
      "metadata": {
        "id": "YcUBbLLhOQo_",
        "colab_type": "code",
        "colab": {}
      },
      "source": [
        "net2 = lstm_reg(2,2000,output_size=num_items).cuda()"
      ],
      "execution_count": 0,
      "outputs": []
    },
    {
      "cell_type": "code",
      "metadata": {
        "id": "kT7DCwcQOQxN",
        "colab_type": "code",
        "outputId": "114f8945-77fc-4c55-a358-2219df983fd5",
        "colab": {
          "base_uri": "https://localhost:8080/",
          "height": 1040
        }
      },
      "source": [
        "for e in range(EPOCH):\n",
        "  for step, (x, y) in enumerate(train_dataloader):\n",
        "    var_x1 = x.type(torch.cuda.FloatTensor)\n",
        "    var_y1 = y.type(torch.cuda.FloatTensor)\n",
        "\n",
        "    out = net2(var_x1)\n",
        "    loss = criterion(out, var_y1)\n",
        "\n",
        "    optimizer1.zero_grad()\n",
        "    loss.backward()\n",
        "    optimizer1.step()\n",
        "    if (step)%50 == 0:\n",
        "        #print('Epoch: {}, Loss:{:.5f}'.format(e+1, loss.data.cpu()))\n",
        "        print('Train Epoch: {} [{}/{} ({:.0f}%)]\\tLoss: {:.6f}'.format(e, \n",
        "         step * len(var_x1), len(train_dataloader.dataset),100. * step / len(train_dataloader), loss.data.item()))"
      ],
      "execution_count": 0,
      "outputs": [
        {
          "output_type": "stream",
          "text": [
            "/usr/local/lib/python3.6/dist-packages/torch/nn/modules/loss.py:443: UserWarning: Using a target size (torch.Size([500, 1, 1])) that is different to the input size (torch.Size([500, 1, 22169])). This will likely lead to incorrect results due to broadcasting. Please ensure they have the same size.\n",
            "  return F.mse_loss(input, target, reduction=self.reduction)\n"
          ],
          "name": "stderr"
        },
        {
          "output_type": "stream",
          "text": [
            "Train Epoch: 0 [0/687239 (0%)]\tLoss: 187.926804\n",
            "Train Epoch: 0 [25000/687239 (4%)]\tLoss: 715.876953\n",
            "Train Epoch: 0 [50000/687239 (7%)]\tLoss: 688.730896\n",
            "Train Epoch: 0 [75000/687239 (11%)]\tLoss: 216.964996\n",
            "Train Epoch: 0 [100000/687239 (15%)]\tLoss: 196.420715\n",
            "Train Epoch: 0 [125000/687239 (18%)]\tLoss: 334.076874\n",
            "Train Epoch: 0 [150000/687239 (22%)]\tLoss: 2040.141479\n",
            "Train Epoch: 0 [175000/687239 (25%)]\tLoss: 149.468658\n",
            "Train Epoch: 0 [200000/687239 (29%)]\tLoss: 465.479004\n",
            "Train Epoch: 0 [225000/687239 (33%)]\tLoss: 374.068756\n",
            "Train Epoch: 0 [250000/687239 (36%)]\tLoss: 266.830841\n",
            "Train Epoch: 0 [275000/687239 (40%)]\tLoss: 791.155273\n",
            "Train Epoch: 0 [300000/687239 (44%)]\tLoss: 505.397003\n",
            "Train Epoch: 0 [325000/687239 (47%)]\tLoss: 237.756821\n",
            "Train Epoch: 0 [350000/687239 (51%)]\tLoss: 597.450928\n",
            "Train Epoch: 0 [375000/687239 (55%)]\tLoss: 2084.762939\n",
            "Train Epoch: 0 [400000/687239 (58%)]\tLoss: 327.152954\n",
            "Train Epoch: 0 [425000/687239 (62%)]\tLoss: 1897.011475\n",
            "Train Epoch: 0 [450000/687239 (65%)]\tLoss: 213.538803\n",
            "Train Epoch: 0 [475000/687239 (69%)]\tLoss: 164.924835\n",
            "Train Epoch: 0 [500000/687239 (73%)]\tLoss: 315.042969\n",
            "Train Epoch: 0 [525000/687239 (76%)]\tLoss: 50.246563\n",
            "Train Epoch: 0 [550000/687239 (80%)]\tLoss: 1128.932861\n",
            "Train Epoch: 0 [575000/687239 (84%)]\tLoss: 157.472809\n",
            "Train Epoch: 0 [600000/687239 (87%)]\tLoss: 173.152740\n",
            "Train Epoch: 0 [625000/687239 (91%)]\tLoss: 79.082664\n",
            "Train Epoch: 0 [650000/687239 (95%)]\tLoss: 373.814728\n",
            "Train Epoch: 0 [675000/687239 (98%)]\tLoss: 375.508972\n"
          ],
          "name": "stdout"
        },
        {
          "output_type": "stream",
          "text": [
            "/usr/local/lib/python3.6/dist-packages/torch/nn/modules/loss.py:443: UserWarning: Using a target size (torch.Size([239, 1, 1])) that is different to the input size (torch.Size([239, 1, 22169])). This will likely lead to incorrect results due to broadcasting. Please ensure they have the same size.\n",
            "  return F.mse_loss(input, target, reduction=self.reduction)\n"
          ],
          "name": "stderr"
        },
        {
          "output_type": "stream",
          "text": [
            "Train Epoch: 1 [0/687239 (0%)]\tLoss: 157.128799\n",
            "Train Epoch: 1 [25000/687239 (4%)]\tLoss: 270.222839\n",
            "Train Epoch: 1 [50000/687239 (7%)]\tLoss: 659.519165\n",
            "Train Epoch: 1 [75000/687239 (11%)]\tLoss: 123.890747\n",
            "Train Epoch: 1 [100000/687239 (15%)]\tLoss: 3219.133057\n",
            "Train Epoch: 1 [125000/687239 (18%)]\tLoss: 1249.129395\n",
            "Train Epoch: 1 [150000/687239 (22%)]\tLoss: 406.990875\n",
            "Train Epoch: 1 [175000/687239 (25%)]\tLoss: 267.224823\n",
            "Train Epoch: 1 [200000/687239 (29%)]\tLoss: 1260.717041\n",
            "Train Epoch: 1 [225000/687239 (33%)]\tLoss: 294.186768\n",
            "Train Epoch: 1 [250000/687239 (36%)]\tLoss: 504.493011\n",
            "Train Epoch: 1 [275000/687239 (40%)]\tLoss: 618.508911\n",
            "Train Epoch: 1 [300000/687239 (44%)]\tLoss: 21709.539062\n",
            "Train Epoch: 1 [325000/687239 (47%)]\tLoss: 130.968658\n",
            "Train Epoch: 1 [350000/687239 (51%)]\tLoss: 250.684677\n",
            "Train Epoch: 1 [375000/687239 (55%)]\tLoss: 5092.083496\n",
            "Train Epoch: 1 [400000/687239 (58%)]\tLoss: 1929.057129\n",
            "Train Epoch: 1 [425000/687239 (62%)]\tLoss: 1997.593262\n",
            "Train Epoch: 1 [450000/687239 (65%)]\tLoss: 768.759033\n",
            "Train Epoch: 1 [475000/687239 (69%)]\tLoss: 1003.831055\n",
            "Train Epoch: 1 [500000/687239 (73%)]\tLoss: 352.526794\n",
            "Train Epoch: 1 [525000/687239 (76%)]\tLoss: 140.636826\n",
            "Train Epoch: 1 [550000/687239 (80%)]\tLoss: 7787.882812\n",
            "Train Epoch: 1 [575000/687239 (84%)]\tLoss: 380.983154\n",
            "Train Epoch: 1 [600000/687239 (87%)]\tLoss: 691.912964\n"
          ],
          "name": "stdout"
        }
      ]
    },
    {
      "cell_type": "code",
      "metadata": {
        "id": "zoAIN_Z1OQzv",
        "colab_type": "code",
        "colab": {}
      },
      "source": [
        ""
      ],
      "execution_count": 0,
      "outputs": []
    },
    {
      "cell_type": "code",
      "metadata": {
        "id": "lWICf4enOQ4v",
        "colab_type": "code",
        "colab": {}
      },
      "source": [
        ""
      ],
      "execution_count": 0,
      "outputs": []
    },
    {
      "cell_type": "code",
      "metadata": {
        "id": "3M1RhQk4xyDI",
        "colab_type": "code",
        "colab": {}
      },
      "source": [
        "a = np.array([])\n",
        "\n",
        "a = np.append(a,[1,2,3,4], axis=0)\n",
        "print(a)\n",
        "\n",
        "a = np.append(a,[1,2,3,4], axis=0)\n",
        "print(a)"
      ],
      "execution_count": 0,
      "outputs": []
    },
    {
      "cell_type": "code",
      "metadata": {
        "id": "bsdYEevjx10a",
        "colab_type": "code",
        "colab": {}
      },
      "source": [
        ""
      ],
      "execution_count": 0,
      "outputs": []
    }
  ]
}