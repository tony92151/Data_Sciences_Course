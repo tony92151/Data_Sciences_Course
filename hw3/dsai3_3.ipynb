{
  "nbformat": 4,
  "nbformat_minor": 0,
  "metadata": {
    "colab": {
      "name": "dsai3_2.ipynb",
      "version": "0.3.2",
      "provenance": [],
      "collapsed_sections": []
    },
    "kernelspec": {
      "name": "python3",
      "display_name": "Python 3"
    },
    "accelerator": "GPU"
  },
  "cells": [
    {
      "cell_type": "markdown",
      "metadata": {
        "id": "61hDcMi3xWSh",
        "colab_type": "text"
      },
      "source": [
        "# Download data and unzip"
      ]
    },
    {
      "cell_type": "code",
      "metadata": {
        "id": "9NYZbNYLQqOa",
        "colab_type": "code",
        "outputId": "1be87e7e-24b6-4894-a509-f8782e4e83be",
        "colab": {
          "base_uri": "https://localhost:8080/",
          "height": 600
        }
      },
      "source": [
        "!wget --content-disposition 'https://docs.google.com/uc?export=download&id=1-mpuwj2H45sHGRa-N1PQ8qeBSzmM1ubx' \n",
        "!apt-get install unzip\n",
        "!unzip 'competitive-data-science-predict-future-sales.zip' -d data\n",
        "\n",
        "!gunzip 'data/test.csv.gz'\n",
        "!gunzip 'data/sample_submission.csv.gz'\n",
        "!gunzip 'data/sales_train.csv.gz'"
      ],
      "execution_count": 1,
      "outputs": [
        {
          "output_type": "stream",
          "text": [
            "--2019-05-08 17:39:59--  https://docs.google.com/uc?export=download&id=1-mpuwj2H45sHGRa-N1PQ8qeBSzmM1ubx\n",
            "Resolving docs.google.com (docs.google.com)... 172.217.161.46, 2404:6800:4004:80a::200e\n",
            "Connecting to docs.google.com (docs.google.com)|172.217.161.46|:443... connected.\n",
            "HTTP request sent, awaiting response... 302 Moved Temporarily\n",
            "Location: https://doc-00-ao-docs.googleusercontent.com/docs/securesc/ha0ro937gcuc7l7deffksulhg5h7mbp1/ntg7dqooej7fulvvbbkrktqffsid6pdq/1557331200000/10974934039054397010/*/1-mpuwj2H45sHGRa-N1PQ8qeBSzmM1ubx?e=download [following]\n",
            "Warning: wildcards not supported in HTTP.\n",
            "--2019-05-08 17:40:01--  https://doc-00-ao-docs.googleusercontent.com/docs/securesc/ha0ro937gcuc7l7deffksulhg5h7mbp1/ntg7dqooej7fulvvbbkrktqffsid6pdq/1557331200000/10974934039054397010/*/1-mpuwj2H45sHGRa-N1PQ8qeBSzmM1ubx?e=download\n",
            "Resolving doc-00-ao-docs.googleusercontent.com (doc-00-ao-docs.googleusercontent.com)... 216.58.197.161, 2404:6800:4004:801::2001\n",
            "Connecting to doc-00-ao-docs.googleusercontent.com (doc-00-ao-docs.googleusercontent.com)|216.58.197.161|:443... connected.\n",
            "HTTP request sent, awaiting response... 200 OK\n",
            "Length: unspecified [application/zip]\n",
            "Saving to: ‘competitive-data-science-predict-future-sales.zip’\n",
            "\n",
            "competitive-data-sc     [    <=>             ]  14.26M  18.7MB/s    in 0.8s    \n",
            "\n",
            "2019-05-08 17:40:03 (18.7 MB/s) - ‘competitive-data-science-predict-future-sales.zip’ saved [14948480]\n",
            "\n",
            "Reading package lists... Done\n",
            "Building dependency tree       \n",
            "Reading state information... Done\n",
            "unzip is already the newest version (6.0-21ubuntu1).\n",
            "The following package was automatically installed and is no longer required:\n",
            "  libnvidia-common-410\n",
            "Use 'apt autoremove' to remove it.\n",
            "0 upgraded, 0 newly installed, 0 to remove and 11 not upgraded.\n",
            "Archive:  competitive-data-science-predict-future-sales.zip\n",
            "  inflating: data/test.csv.gz        \n",
            "  inflating: data/sample_submission.csv.gz  \n",
            "  inflating: data/sales_train.csv.gz  \n",
            "  inflating: data/shops.csv          \n",
            "  inflating: data/item_categories.csv  \n",
            "  inflating: data/items.csv          \n"
          ],
          "name": "stdout"
        }
      ]
    },
    {
      "cell_type": "code",
      "metadata": {
        "id": "cmlWY8tvUMwP",
        "colab_type": "code",
        "colab": {}
      },
      "source": [
        "import torch\n",
        "from torch import nn, optim\n",
        "import torch.nn.functional as F\n",
        "import matplotlib.pyplot as plt\n",
        "import sys\n",
        "import time\n",
        "import numpy as np\n",
        "import math\n",
        "import pandas as pd\n",
        "from datetime import datetime\n",
        "from torch.autograd import Variable\n",
        "from torch.utils.data import Dataset, DataLoader\n",
        "import random\n",
        "import datetime"
      ],
      "execution_count": 0,
      "outputs": []
    },
    {
      "cell_type": "code",
      "metadata": {
        "id": "xMeZtGPOve2W",
        "colab_type": "code",
        "colab": {}
      },
      "source": [
        "# items = pd.read_csv('data/items.csv')\n",
        "# shops = pd.read_csv('data/shops.csv')\n",
        "# cats = pd.read_csv('data/item_categories.csv')\n",
        "train = pd.read_csv('data/sales_train.csv', parse_dates=['date'], infer_datetime_format=True, dayfirst=True)\n",
        "\n",
        "test  = pd.read_csv('data/test.csv').set_index('ID')"
      ],
      "execution_count": 0,
      "outputs": []
    },
    {
      "cell_type": "code",
      "metadata": {
        "id": "WrrEclBov0w_",
        "colab_type": "code",
        "outputId": "2b63f1a7-a3ed-446c-a02d-d82d1646ad61",
        "colab": {
          "base_uri": "https://localhost:8080/",
          "height": 414
        }
      },
      "source": [
        "print ('number of shops: ', train['shop_id'].max())\n",
        "\n",
        "num_items = train['item_id'].max()\n",
        "print ('number of items: ', num_items)\n",
        "num_month = train['date_block_num'].max()\n",
        "print ('number of month: ', num_month)\n",
        "print ('size of train: ', train.shape)\n",
        "train[:10]"
      ],
      "execution_count": 4,
      "outputs": [
        {
          "output_type": "stream",
          "text": [
            "number of shops:  59\n",
            "number of items:  22169\n",
            "number of month:  33\n",
            "size of train:  (2935849, 6)\n"
          ],
          "name": "stdout"
        },
        {
          "output_type": "execute_result",
          "data": {
            "text/html": [
              "<div>\n",
              "<style scoped>\n",
              "    .dataframe tbody tr th:only-of-type {\n",
              "        vertical-align: middle;\n",
              "    }\n",
              "\n",
              "    .dataframe tbody tr th {\n",
              "        vertical-align: top;\n",
              "    }\n",
              "\n",
              "    .dataframe thead th {\n",
              "        text-align: right;\n",
              "    }\n",
              "</style>\n",
              "<table border=\"1\" class=\"dataframe\">\n",
              "  <thead>\n",
              "    <tr style=\"text-align: right;\">\n",
              "      <th></th>\n",
              "      <th>date</th>\n",
              "      <th>date_block_num</th>\n",
              "      <th>shop_id</th>\n",
              "      <th>item_id</th>\n",
              "      <th>item_price</th>\n",
              "      <th>item_cnt_day</th>\n",
              "    </tr>\n",
              "  </thead>\n",
              "  <tbody>\n",
              "    <tr>\n",
              "      <th>0</th>\n",
              "      <td>2013-01-02</td>\n",
              "      <td>0</td>\n",
              "      <td>59</td>\n",
              "      <td>22154</td>\n",
              "      <td>999.00</td>\n",
              "      <td>1.0</td>\n",
              "    </tr>\n",
              "    <tr>\n",
              "      <th>1</th>\n",
              "      <td>2013-01-03</td>\n",
              "      <td>0</td>\n",
              "      <td>25</td>\n",
              "      <td>2552</td>\n",
              "      <td>899.00</td>\n",
              "      <td>1.0</td>\n",
              "    </tr>\n",
              "    <tr>\n",
              "      <th>2</th>\n",
              "      <td>2013-01-05</td>\n",
              "      <td>0</td>\n",
              "      <td>25</td>\n",
              "      <td>2552</td>\n",
              "      <td>899.00</td>\n",
              "      <td>-1.0</td>\n",
              "    </tr>\n",
              "    <tr>\n",
              "      <th>3</th>\n",
              "      <td>2013-01-06</td>\n",
              "      <td>0</td>\n",
              "      <td>25</td>\n",
              "      <td>2554</td>\n",
              "      <td>1709.05</td>\n",
              "      <td>1.0</td>\n",
              "    </tr>\n",
              "    <tr>\n",
              "      <th>4</th>\n",
              "      <td>2013-01-15</td>\n",
              "      <td>0</td>\n",
              "      <td>25</td>\n",
              "      <td>2555</td>\n",
              "      <td>1099.00</td>\n",
              "      <td>1.0</td>\n",
              "    </tr>\n",
              "    <tr>\n",
              "      <th>5</th>\n",
              "      <td>2013-01-10</td>\n",
              "      <td>0</td>\n",
              "      <td>25</td>\n",
              "      <td>2564</td>\n",
              "      <td>349.00</td>\n",
              "      <td>1.0</td>\n",
              "    </tr>\n",
              "    <tr>\n",
              "      <th>6</th>\n",
              "      <td>2013-01-02</td>\n",
              "      <td>0</td>\n",
              "      <td>25</td>\n",
              "      <td>2565</td>\n",
              "      <td>549.00</td>\n",
              "      <td>1.0</td>\n",
              "    </tr>\n",
              "    <tr>\n",
              "      <th>7</th>\n",
              "      <td>2013-01-04</td>\n",
              "      <td>0</td>\n",
              "      <td>25</td>\n",
              "      <td>2572</td>\n",
              "      <td>239.00</td>\n",
              "      <td>1.0</td>\n",
              "    </tr>\n",
              "    <tr>\n",
              "      <th>8</th>\n",
              "      <td>2013-01-11</td>\n",
              "      <td>0</td>\n",
              "      <td>25</td>\n",
              "      <td>2572</td>\n",
              "      <td>299.00</td>\n",
              "      <td>1.0</td>\n",
              "    </tr>\n",
              "    <tr>\n",
              "      <th>9</th>\n",
              "      <td>2013-01-03</td>\n",
              "      <td>0</td>\n",
              "      <td>25</td>\n",
              "      <td>2573</td>\n",
              "      <td>299.00</td>\n",
              "      <td>3.0</td>\n",
              "    </tr>\n",
              "  </tbody>\n",
              "</table>\n",
              "</div>"
            ],
            "text/plain": [
              "        date  date_block_num  shop_id  item_id  item_price  item_cnt_day\n",
              "0 2013-01-02               0       59    22154      999.00           1.0\n",
              "1 2013-01-03               0       25     2552      899.00           1.0\n",
              "2 2013-01-05               0       25     2552      899.00          -1.0\n",
              "3 2013-01-06               0       25     2554     1709.05           1.0\n",
              "4 2013-01-15               0       25     2555     1099.00           1.0\n",
              "5 2013-01-10               0       25     2564      349.00           1.0\n",
              "6 2013-01-02               0       25     2565      549.00           1.0\n",
              "7 2013-01-04               0       25     2572      239.00           1.0\n",
              "8 2013-01-11               0       25     2572      299.00           1.0\n",
              "9 2013-01-03               0       25     2573      299.00           3.0"
            ]
          },
          "metadata": {
            "tags": []
          },
          "execution_count": 4
        }
      ]
    },
    {
      "cell_type": "code",
      "metadata": {
        "id": "8NdEi01eM5I-",
        "colab_type": "code",
        "outputId": "d51fbeb7-2658-4d9c-bf11-d0c2ddc60b1e",
        "colab": {
          "base_uri": "https://localhost:8080/",
          "height": 195
        }
      },
      "source": [
        "train_num = train.groupby(['date_block_num']).sum().reset_index()\n",
        "train_num[:5]"
      ],
      "execution_count": 5,
      "outputs": [
        {
          "output_type": "execute_result",
          "data": {
            "text/html": [
              "<div>\n",
              "<style scoped>\n",
              "    .dataframe tbody tr th:only-of-type {\n",
              "        vertical-align: middle;\n",
              "    }\n",
              "\n",
              "    .dataframe tbody tr th {\n",
              "        vertical-align: top;\n",
              "    }\n",
              "\n",
              "    .dataframe thead th {\n",
              "        text-align: right;\n",
              "    }\n",
              "</style>\n",
              "<table border=\"1\" class=\"dataframe\">\n",
              "  <thead>\n",
              "    <tr style=\"text-align: right;\">\n",
              "      <th></th>\n",
              "      <th>date_block_num</th>\n",
              "      <th>shop_id</th>\n",
              "      <th>item_id</th>\n",
              "      <th>item_price</th>\n",
              "      <th>item_cnt_day</th>\n",
              "    </tr>\n",
              "  </thead>\n",
              "  <tbody>\n",
              "    <tr>\n",
              "      <th>0</th>\n",
              "      <td>0</td>\n",
              "      <td>3417068</td>\n",
              "      <td>1183971787</td>\n",
              "      <td>8.221187e+07</td>\n",
              "      <td>131479.0</td>\n",
              "    </tr>\n",
              "    <tr>\n",
              "      <th>1</th>\n",
              "      <td>1</td>\n",
              "      <td>3111582</td>\n",
              "      <td>1076043980</td>\n",
              "      <td>7.558019e+07</td>\n",
              "      <td>128090.0</td>\n",
              "    </tr>\n",
              "    <tr>\n",
              "      <th>2</th>\n",
              "      <td>2</td>\n",
              "      <td>4016457</td>\n",
              "      <td>1220911622</td>\n",
              "      <td>8.429831e+07</td>\n",
              "      <td>147142.0</td>\n",
              "    </tr>\n",
              "    <tr>\n",
              "      <th>3</th>\n",
              "      <td>3</td>\n",
              "      <td>3164978</td>\n",
              "      <td>971345965</td>\n",
              "      <td>6.151282e+07</td>\n",
              "      <td>107190.0</td>\n",
              "    </tr>\n",
              "    <tr>\n",
              "      <th>4</th>\n",
              "      <td>4</td>\n",
              "      <td>3093999</td>\n",
              "      <td>950372988</td>\n",
              "      <td>5.727413e+07</td>\n",
              "      <td>106970.0</td>\n",
              "    </tr>\n",
              "  </tbody>\n",
              "</table>\n",
              "</div>"
            ],
            "text/plain": [
              "   date_block_num  shop_id     item_id    item_price  item_cnt_day\n",
              "0               0  3417068  1183971787  8.221187e+07      131479.0\n",
              "1               1  3111582  1076043980  7.558019e+07      128090.0\n",
              "2               2  4016457  1220911622  8.429831e+07      147142.0\n",
              "3               3  3164978   971345965  6.151282e+07      107190.0\n",
              "4               4  3093999   950372988  5.727413e+07      106970.0"
            ]
          },
          "metadata": {
            "tags": []
          },
          "execution_count": 5
        }
      ]
    },
    {
      "cell_type": "code",
      "metadata": {
        "id": "7L88wSlAPxCV",
        "colab_type": "code",
        "outputId": "bc669c90-b55f-41c3-b479-0f003dbd2a09",
        "colab": {
          "base_uri": "https://localhost:8080/",
          "height": 195
        }
      },
      "source": [
        "train_num = train_num.drop(labels=['shop_id', 'item_id','item_price'], axis=1)\n",
        "train_num[:5]"
      ],
      "execution_count": 6,
      "outputs": [
        {
          "output_type": "execute_result",
          "data": {
            "text/html": [
              "<div>\n",
              "<style scoped>\n",
              "    .dataframe tbody tr th:only-of-type {\n",
              "        vertical-align: middle;\n",
              "    }\n",
              "\n",
              "    .dataframe tbody tr th {\n",
              "        vertical-align: top;\n",
              "    }\n",
              "\n",
              "    .dataframe thead th {\n",
              "        text-align: right;\n",
              "    }\n",
              "</style>\n",
              "<table border=\"1\" class=\"dataframe\">\n",
              "  <thead>\n",
              "    <tr style=\"text-align: right;\">\n",
              "      <th></th>\n",
              "      <th>date_block_num</th>\n",
              "      <th>item_cnt_day</th>\n",
              "    </tr>\n",
              "  </thead>\n",
              "  <tbody>\n",
              "    <tr>\n",
              "      <th>0</th>\n",
              "      <td>0</td>\n",
              "      <td>131479.0</td>\n",
              "    </tr>\n",
              "    <tr>\n",
              "      <th>1</th>\n",
              "      <td>1</td>\n",
              "      <td>128090.0</td>\n",
              "    </tr>\n",
              "    <tr>\n",
              "      <th>2</th>\n",
              "      <td>2</td>\n",
              "      <td>147142.0</td>\n",
              "    </tr>\n",
              "    <tr>\n",
              "      <th>3</th>\n",
              "      <td>3</td>\n",
              "      <td>107190.0</td>\n",
              "    </tr>\n",
              "    <tr>\n",
              "      <th>4</th>\n",
              "      <td>4</td>\n",
              "      <td>106970.0</td>\n",
              "    </tr>\n",
              "  </tbody>\n",
              "</table>\n",
              "</div>"
            ],
            "text/plain": [
              "   date_block_num  item_cnt_day\n",
              "0               0      131479.0\n",
              "1               1      128090.0\n",
              "2               2      147142.0\n",
              "3               3      107190.0\n",
              "4               4      106970.0"
            ]
          },
          "metadata": {
            "tags": []
          },
          "execution_count": 6
        }
      ]
    },
    {
      "cell_type": "code",
      "metadata": {
        "id": "Dk--t5reQBwv",
        "colab_type": "code",
        "outputId": "01ea35ed-1193-480b-b23f-ec1db1c67199",
        "colab": {
          "base_uri": "https://localhost:8080/",
          "height": 615
        }
      },
      "source": [
        "t = np.array(train_num).astype('float')\n",
        "print(t)"
      ],
      "execution_count": 7,
      "outputs": [
        {
          "output_type": "stream",
          "text": [
            "[[0.00000e+00 1.31479e+05]\n",
            " [1.00000e+00 1.28090e+05]\n",
            " [2.00000e+00 1.47142e+05]\n",
            " [3.00000e+00 1.07190e+05]\n",
            " [4.00000e+00 1.06970e+05]\n",
            " [5.00000e+00 1.25381e+05]\n",
            " [6.00000e+00 1.16966e+05]\n",
            " [7.00000e+00 1.25291e+05]\n",
            " [8.00000e+00 1.33332e+05]\n",
            " [9.00000e+00 1.27541e+05]\n",
            " [1.00000e+01 1.30009e+05]\n",
            " [1.10000e+01 1.83342e+05]\n",
            " [1.20000e+01 1.16899e+05]\n",
            " [1.30000e+01 1.09687e+05]\n",
            " [1.40000e+01 1.15297e+05]\n",
            " [1.50000e+01 9.65560e+04]\n",
            " [1.60000e+01 9.77900e+04]\n",
            " [1.70000e+01 9.74290e+04]\n",
            " [1.80000e+01 9.12800e+04]\n",
            " [1.90000e+01 1.02721e+05]\n",
            " [2.00000e+01 9.92080e+04]\n",
            " [2.10000e+01 1.07422e+05]\n",
            " [2.20000e+01 1.17845e+05]\n",
            " [2.30000e+01 1.68755e+05]\n",
            " [2.40000e+01 1.10971e+05]\n",
            " [2.50000e+01 8.41980e+04]\n",
            " [2.60000e+01 8.20140e+04]\n",
            " [2.70000e+01 7.78270e+04]\n",
            " [2.80000e+01 7.22950e+04]\n",
            " [2.90000e+01 6.41140e+04]\n",
            " [3.00000e+01 6.31870e+04]\n",
            " [3.10000e+01 6.60790e+04]\n",
            " [3.20000e+01 7.28430e+04]\n",
            " [3.30000e+01 7.10560e+04]]\n"
          ],
          "name": "stdout"
        }
      ]
    },
    {
      "cell_type": "code",
      "metadata": {
        "id": "a8qLV-65QdE4",
        "colab_type": "code",
        "outputId": "8337192a-541f-46dc-837b-06825fde55cd",
        "colab": {
          "base_uri": "https://localhost:8080/",
          "height": 269
        }
      },
      "source": [
        "# print(t[:,1])\n",
        "t = t[:,1]\n",
        "plt.plot(t)\n",
        "plt.show()"
      ],
      "execution_count": 8,
      "outputs": [
        {
          "output_type": "display_data",
          "data": {
            "image/png": "[encoded data removed]",
            "text/plain": [
              "<Figure size 432x288 with 1 Axes>"
            ]
          },
          "metadata": {
            "tags": []
          }
        }
      ]
    },
    {
      "cell_type": "code",
      "metadata": {
        "id": "41TF0-HRZCuF",
        "colab_type": "code",
        "colab": {}
      },
      "source": [
        "def max_min_normalization(x):\n",
        "    return np.array([(float(i)-min(x))/float(max(x)-min(x)) for i in x])\n",
        "  \n",
        "def de_normalization(original,x):\n",
        "    return float(x)*(float(max(original)-min(original)))+min(original)"
      ],
      "execution_count": 0,
      "outputs": []
    },
    {
      "cell_type": "code",
      "metadata": {
        "id": "NSgQHg8SSROx",
        "colab_type": "code",
        "outputId": "d576b52b-2339-4a6b-c09e-91bdeb0d76b8",
        "colab": {
          "base_uri": "https://localhost:8080/",
          "height": 374
        }
      },
      "source": [
        "from sklearn import preprocessing\n",
        "\n",
        "T = t\n",
        "\n",
        "t = max_min_normalization(t)\n",
        "\n",
        "print(t)\n",
        "\n",
        "plt.plot(t)\n",
        "plt.show()"
      ],
      "execution_count": 10,
      "outputs": [
        {
          "output_type": "stream",
          "text": [
            "[0.56836586 0.54016063 0.69872248 0.36621863 0.36438767 0.51761475\n",
            " 0.44758021 0.51686572 0.58378761 0.53559153 0.55613166 1.\n",
            " 0.4470226  0.38700012 0.43368982 0.27771628 0.28798635 0.2849819\n",
            " 0.23380633 0.32902501 0.29978777 0.36814947 0.45489576 0.87859848\n",
            " 0.39768632 0.1748658  0.15668928 0.12184262 0.07580209 0.00771503\n",
            " 0.         0.02406891 0.08036286 0.06549041]\n"
          ],
          "name": "stdout"
        },
        {
          "output_type": "display_data",
          "data": {
            "image/png": "[encoded data removed]",
            "text/plain": [
              "<Figure size 432x288 with 1 Axes>"
            ]
          },
          "metadata": {
            "tags": []
          }
        }
      ]
    },
    {
      "cell_type": "code",
      "metadata": {
        "id": "p9gPuYNOUPGO",
        "colab_type": "code",
        "colab": {}
      },
      "source": [
        "def create_dataset(dataset,on,look_back=2):\n",
        "    dataX, dataY=[], []\n",
        "    for i in range(len(dataset)-look_back):\n",
        "        a=dataset[i:(i+look_back)]\n",
        "        dataX.append(a)\n",
        "        \n",
        "        #dataX.append()\n",
        "        dataY.append(dataset[i+look_back])\n",
        "    return np.array(dataX), np.array(dataY)"
      ],
      "execution_count": 0,
      "outputs": []
    },
    {
      "cell_type": "code",
      "metadata": {
        "id": "CdmwmzFNUT1G",
        "colab_type": "code",
        "outputId": "c9b154da-ee85-4981-d3ba-a06516f0a063",
        "colab": {
          "base_uri": "https://localhost:8080/",
          "height": 351
        }
      },
      "source": [
        "train_X1 ,train_Y1 = create_dataset(t.reshape(len(t),1),2)\n",
        "print(train_X1[:5])\n",
        "print(train_Y1[:5])"
      ],
      "execution_count": 12,
      "outputs": [
        {
          "output_type": "stream",
          "text": [
            "[[[0.56836586]\n",
            "  [0.54016063]]\n",
            "\n",
            " [[0.54016063]\n",
            "  [0.69872248]]\n",
            "\n",
            " [[0.69872248]\n",
            "  [0.36621863]]\n",
            "\n",
            " [[0.36621863]\n",
            "  [0.36438767]]\n",
            "\n",
            " [[0.36438767]\n",
            "  [0.51761475]]]\n",
            "[[0.69872248]\n",
            " [0.36621863]\n",
            " [0.36438767]\n",
            " [0.51761475]\n",
            " [0.44758021]]\n"
          ],
          "name": "stdout"
        }
      ]
    },
    {
      "cell_type": "code",
      "metadata": {
        "id": "en1VSt6bWShQ",
        "colab_type": "code",
        "colab": {}
      },
      "source": [
        "train_x1 = train_X1.reshape(-1,1,2)\n",
        "train_y1 = train_Y1.reshape(-1,1,1)\n",
        "\n",
        "train_x1 = Variable(torch.from_numpy(train_x1)).float()\n",
        "train_y1 = Variable(torch.from_numpy(train_y1)).float()"
      ],
      "execution_count": 0,
      "outputs": []
    },
    {
      "cell_type": "code",
      "metadata": {
        "id": "D8UCCj-tWe3w",
        "colab_type": "code",
        "colab": {}
      },
      "source": [
        "class lstm_reg(torch.nn.Module):\n",
        "  \n",
        "  def __init__(self,input_size,hidden_size, output_size=1,num_layers=2):\n",
        "    super(lstm_reg,self).__init__()\n",
        "\n",
        "    self.rnn = torch.nn.LSTM(input_size,hidden_size,num_layers)\n",
        "    self.reg = torch.nn.Linear(hidden_size,output_size)\n",
        "\n",
        "  def forward(self,x):\n",
        "    x, _ = self.rnn(x)\n",
        "    s,b,h = x.shape\n",
        "    x = x.view(s*b, h)\n",
        "    x = self.reg(x)\n",
        "    x = x.view(s,b,-1)\n",
        "    return x"
      ],
      "execution_count": 0,
      "outputs": []
    },
    {
      "cell_type": "code",
      "metadata": {
        "id": "rVONmLixWkY4",
        "colab_type": "code",
        "colab": {}
      },
      "source": [
        "net1 = lstm_reg(2,8).cuda()\n",
        "criterion = torch.nn.MSELoss()\n",
        "optimizer1 = torch.optim.Adam(net1.parameters(),lr=1e-2)"
      ],
      "execution_count": 0,
      "outputs": []
    },
    {
      "cell_type": "code",
      "metadata": {
        "id": "isE0hPeXXCmd",
        "colab_type": "code",
        "colab": {}
      },
      "source": [
        "EPOCH = 10000"
      ],
      "execution_count": 0,
      "outputs": []
    },
    {
      "cell_type": "code",
      "metadata": {
        "id": "5FExjOKwW9Fr",
        "colab_type": "code",
        "outputId": "c5ec3081-1c7f-4974-ebad-e964b3918816",
        "colab": {
          "base_uri": "https://localhost:8080/",
          "height": 369
        }
      },
      "source": [
        "for e in range(EPOCH):\n",
        "  var_x1 = Variable(train_x1).cuda()\n",
        "  var_y1 = Variable(train_y1).cuda()\n",
        "\n",
        "  out = net1(var_x1)\n",
        "  loss = criterion(out, var_y1)\n",
        "\n",
        "  optimizer1.zero_grad()\n",
        "  loss.backward()\n",
        "  optimizer1.step()\n",
        "  if (e+1)%500 == 0:\n",
        "      print('Epoch: {}, Loss:{:.8f}'.format(e+1, loss.data.cpu()))"
      ],
      "execution_count": 17,
      "outputs": [
        {
          "output_type": "stream",
          "text": [
            "Epoch: 500, Loss:0.00071303\n",
            "Epoch: 1000, Loss:0.00044940\n",
            "Epoch: 1500, Loss:0.00014056\n",
            "Epoch: 2000, Loss:0.00010939\n",
            "Epoch: 2500, Loss:0.00003436\n",
            "Epoch: 3000, Loss:0.00001613\n",
            "Epoch: 3500, Loss:0.00001192\n",
            "Epoch: 4000, Loss:0.00000969\n",
            "Epoch: 4500, Loss:0.00000812\n",
            "Epoch: 5000, Loss:0.00000670\n",
            "Epoch: 5500, Loss:0.00000985\n",
            "Epoch: 6000, Loss:0.00000878\n",
            "Epoch: 6500, Loss:0.00000795\n",
            "Epoch: 7000, Loss:0.00000715\n",
            "Epoch: 7500, Loss:0.00002375\n",
            "Epoch: 8000, Loss:0.00001348\n",
            "Epoch: 8500, Loss:0.00000831\n",
            "Epoch: 9000, Loss:0.00000709\n",
            "Epoch: 9500, Loss:0.00000815\n",
            "Epoch: 10000, Loss:0.00000566\n"
          ],
          "name": "stdout"
        }
      ]
    },
    {
      "cell_type": "code",
      "metadata": {
        "id": "fX2MahoOW9NN",
        "colab_type": "code",
        "colab": {}
      },
      "source": [
        "p1 = net1(Variable(train_x1).cuda())\n",
        "p1 = p1.view(-1).data.cpu().numpy()"
      ],
      "execution_count": 0,
      "outputs": []
    },
    {
      "cell_type": "code",
      "metadata": {
        "id": "BdZkEwyFW9Pr",
        "colab_type": "code",
        "colab": {}
      },
      "source": [
        "def appendPrediction(NET,Data,week):#7 week\n",
        "  for i in range(week):\n",
        "    length  = len(Data)\n",
        "    pre_in = np.array([[Data[length-2],Data[length-1]]])\n",
        "    #print(length)\n",
        "    \n",
        "    pre_in = torch.unsqueeze(torch.from_numpy(pre_in), dim=1).float().cuda()\n",
        "    #print(pre_in)\n",
        "    peak_add = NET(pre_in).view(-1).data.cpu().numpy()[0]\n",
        "    #print(peak_add)\n",
        "    Data = np.append(Data,peak_add)\n",
        "    \n",
        "  return Data"
      ],
      "execution_count": 0,
      "outputs": []
    },
    {
      "cell_type": "code",
      "metadata": {
        "id": "xvMhx0ULXpIs",
        "colab_type": "code",
        "colab": {}
      },
      "source": [
        "p1 = appendPrediction(net1,p1,1)"
      ],
      "execution_count": 0,
      "outputs": []
    },
    {
      "cell_type": "code",
      "metadata": {
        "id": "Twr98IeQXySj",
        "colab_type": "code",
        "outputId": "ed0a9178-a8fa-4830-e4b6-5cfcd6a966af",
        "colab": {
          "base_uri": "https://localhost:8080/",
          "height": 355
        }
      },
      "source": [
        "fig = plt.figure(figsize=(10,22),dpi=120)\n",
        "ax1 = fig.add_subplot(7,1,1)\n",
        "\n",
        "ax1.plot(t, lw=1, c='g', label='real')\n",
        "ax1.plot(p1, lw=1, c='r', label='prediction')\n",
        "ax1.set_title('predict')"
      ],
      "execution_count": 21,
      "outputs": [
        {
          "output_type": "execute_result",
          "data": {
            "text/plain": [
              "Text(0.5, 1.0, 'predict')"
            ]
          },
          "metadata": {
            "tags": []
          },
          "execution_count": 21
        },
        {
          "output_type": "display_data",
          "data": {
            "image/png": "[encoded data removed]",
            "text/plain": [
              "<Figure size 1200x2640 with 1 Axes>"
            ]
          },
          "metadata": {
            "tags": []
          }
        }
      ]
    },
    {
      "cell_type": "code",
      "metadata": {
        "id": "OglrpWjCaUyw",
        "colab_type": "code",
        "outputId": "84836a39-50ef-4c16-e500-bc02e6c88dc9",
        "colab": {
          "base_uri": "https://localhost:8080/",
          "height": 34
        }
      },
      "source": [
        "print(de_normalization(T,p1[len(p1)-2]))"
      ],
      "execution_count": 22,
      "outputs": [
        {
          "output_type": "stream",
          "text": [
            "71373.18359714746\n"
          ],
          "name": "stdout"
        }
      ]
    },
    {
      "cell_type": "code",
      "metadata": {
        "id": "OaSqIT8ZZ0bw",
        "colab_type": "code",
        "outputId": "12193dd0-f64e-4664-95f1-8479824dc4fc",
        "colab": {
          "base_uri": "https://localhost:8080/",
          "height": 34
        }
      },
      "source": [
        "t_result = de_normalization(T,p1[len(p1)-1])\n",
        "print('The total sale at 2015-11 : '+ format(t_result) )"
      ],
      "execution_count": 23,
      "outputs": [
        {
          "output_type": "stream",
          "text": [
            "The total sale at 2015-11 : 146411.7114443779\n"
          ],
          "name": "stdout"
        }
      ]
    },
    {
      "cell_type": "code",
      "metadata": {
        "id": "IsixHRcn-aM5",
        "colab_type": "code",
        "colab": {}
      },
      "source": [
        "def creatFullarray(length,data,is_average=False):\n",
        "  #print(length)\n",
        "  a = np.arange(length)\n",
        "  a = np.append([a],[np.zeros(length)],axis=0)\n",
        "  a = np.transpose(a)\n",
        "  ind = 0\n",
        "  for n in range(length-1):\n",
        "    if n == data[ind,0]:\n",
        "      #print('get n : '+format(n))\n",
        "      a[n,1] = data[ind,1]\n",
        "      if ind<(len(data)-1):\n",
        "        ind = ind + 1\n",
        "        #print(ind)\n",
        "  if is_average:\n",
        "    a1 = a[:,0]\n",
        "    a2 = a[:,1]\n",
        "    #print(a2)\n",
        "    #a2 = np.array([(float(i)-np.min(a2))/float(np.max(a2)-np.min(a2)) for i in a2])\n",
        "    a2 = a2*(1/np.sum(a2))\n",
        "    a = np.append([a1],[a2],axis=0)\n",
        "    a = np.transpose(a)\n",
        "  return a"
      ],
      "execution_count": 0,
      "outputs": []
    },
    {
      "cell_type": "code",
      "metadata": {
        "colab_type": "code",
        "id": "joKZEVBtPBNP",
        "colab": {}
      },
      "source": [
        "train_per = train.groupby(['date_block_num','item_id']).sum().reset_index()\n",
        "train_per = train_per.drop(labels=['shop_id','item_price'], axis=1)"
      ],
      "execution_count": 0,
      "outputs": []
    },
    {
      "cell_type": "code",
      "metadata": {
        "id": "6Gdcn9RLrxlj",
        "colab_type": "code",
        "outputId": "2725a7b6-30d0-4daf-9fb7-22074fad99bf",
        "colab": {
          "base_uri": "https://localhost:8080/",
          "height": 34
        }
      },
      "source": [
        "a = []\n",
        "for n in range(num_month):\n",
        "  #print(n)\n",
        "  s = train_per.loc[train_per['date_block_num'] == n]\n",
        "  s = s.drop(labels=['date_block_num'], axis=1)\n",
        "  s = np.array(s)\n",
        "  \n",
        "  s = creatFullarray(num_items,s,is_average=False)\n",
        "  \n",
        "  s = s[:,1]\n",
        "  a.append(s)\n",
        "# print(np.array(a))\n",
        "\n",
        "print(len(np.array(a)[0,:]))"
      ],
      "execution_count": 26,
      "outputs": [
        {
          "output_type": "stream",
          "text": [
            "22169\n"
          ],
          "name": "stdout"
        }
      ]
    },
    {
      "cell_type": "code",
      "metadata": {
        "id": "MFBLwG0G66As",
        "colab_type": "code",
        "colab": {
          "base_uri": "https://localhost:8080/",
          "height": 351
        },
        "outputId": "6fcf5303-16c4-42f4-815e-4b842fb840d6"
      },
      "source": [
        "train_X2 ,train_Y2 = create_dataset(np.array(a)[:,0].reshape(len(a),1),2)\n",
        "print(train_X2[:5])\n",
        "print(train_Y2[:5])"
      ],
      "execution_count": 27,
      "outputs": [
        {
          "output_type": "stream",
          "text": [
            "[[[0.]\n",
            "  [0.]]\n",
            "\n",
            " [[0.]\n",
            "  [0.]]\n",
            "\n",
            " [[0.]\n",
            "  [0.]]\n",
            "\n",
            " [[0.]\n",
            "  [0.]]\n",
            "\n",
            " [[0.]\n",
            "  [0.]]]\n",
            "[[0.]\n",
            " [0.]\n",
            " [0.]\n",
            " [0.]\n",
            " [0.]]\n"
          ],
          "name": "stdout"
        }
      ]
    },
    {
      "cell_type": "code",
      "metadata": {
        "id": "_YM6SBor66LW",
        "colab_type": "code",
        "colab": {}
      },
      "source": [
        "train_x2 = train_X2.reshape(-1,1,2)\n",
        "train_y2 = train_Y2.reshape(-1,1,1)\n",
        "\n",
        "train_x2 = Variable(torch.from_numpy(train_x2)).float()\n",
        "train_y2 = Variable(torch.from_numpy(train_y2)).float()"
      ],
      "execution_count": 0,
      "outputs": []
    },
    {
      "cell_type": "code",
      "metadata": {
        "id": "Dqi1U6t066QK",
        "colab_type": "code",
        "colab": {}
      },
      "source": [
        "Net = lstm_reg(2,8).cuda()\n",
        "criterion = torch.nn.MSELoss()\n",
        "optimizer1 = torch.optim.Adam(net1.parameters(),lr=1e-2)"
      ],
      "execution_count": 0,
      "outputs": []
    },
    {
      "cell_type": "code",
      "metadata": {
        "id": "faYTG3sS8QVc",
        "colab_type": "code",
        "colab": {
          "base_uri": "https://localhost:8080/",
          "height": 193
        },
        "outputId": "dc2f68ba-e157-44c7-8f67-d7c96e1affd4"
      },
      "source": [
        "for e in range(100):\n",
        "  var_x2 = Variable(train_x2).cuda()\n",
        "  var_y2 = Variable(train_y2).cuda()\n",
        "\n",
        "  out = Net(var_x2)\n",
        "  loss = criterion(out, var_y2)\n",
        "\n",
        "  optimizer1.zero_grad()\n",
        "  loss.backward()\n",
        "  optimizer1.step()\n",
        "  if (e+1)%10 == 0:\n",
        "      print('Epoch: {}, Loss:{:.8f}'.format(e+1, loss.data.cpu()))"
      ],
      "execution_count": 30,
      "outputs": [
        {
          "output_type": "stream",
          "text": [
            "Epoch: 10, Loss:0.25120693\n",
            "Epoch: 20, Loss:0.25120693\n",
            "Epoch: 30, Loss:0.25120693\n",
            "Epoch: 40, Loss:0.25120693\n",
            "Epoch: 50, Loss:0.25120693\n",
            "Epoch: 60, Loss:0.25120693\n",
            "Epoch: 70, Loss:0.25120693\n",
            "Epoch: 80, Loss:0.25120693\n",
            "Epoch: 90, Loss:0.25120693\n",
            "Epoch: 100, Loss:0.25120693\n"
          ],
          "name": "stdout"
        }
      ]
    },
    {
      "cell_type": "code",
      "metadata": {
        "id": "f_B8bPFt66OI",
        "colab_type": "code",
        "colab": {}
      },
      "source": [
        "def trainAndPredictItem(a):\n",
        "  iteamNum = []\n",
        "  length = len(np.array(a)[0,:])\n",
        "  for i in range(length):\n",
        "    a = np.array(a)\n",
        "    train_X2 ,train_Y2 = create_dataset(a[:,i].reshape(len(a),1),2)\n",
        "    train_x2 = train_X2.reshape(-1,1,2)\n",
        "    train_y2 = train_Y2.reshape(-1,1,1)\n",
        "    train_x2 = Variable(torch.from_numpy(train_x2)).float()\n",
        "    train_y2 = Variable(torch.from_numpy(train_y2)).float()\n",
        "    Net = lstm_reg(2,5).cuda()\n",
        "    criterion = torch.nn.MSELoss()\n",
        "    optimizer1 = torch.optim.Adam(net1.parameters(),lr=1e-2)\n",
        "    for e in range(5):\n",
        "      var_x2 = Variable(train_x2).cuda()\n",
        "      var_y2 = Variable(train_y2).cuda()\n",
        "      out = Net(var_x2)\n",
        "      loss = criterion(out, var_y2)\n",
        "      optimizer1.zero_grad()\n",
        "      loss.backward()\n",
        "      optimizer1.step()\n",
        "    pred = net1(Variable(train_x2).cuda())\n",
        "    pred = pred.view(-1).data.cpu().numpy()\n",
        "    pred = appendPrediction(Net,pred,1)\n",
        "    s = pred[len(pred)-1]\n",
        "    iteamNum.append(s)\n",
        "    if i%300==0:\n",
        "      print('Caculate: {}/{}, Finish:{:.2f} %'.format(i,length,100*(i/length)))\n",
        "  return iteamNum\n",
        "    \n",
        "    \n",
        "\n",
        "  "
      ],
      "execution_count": 0,
      "outputs": []
    },
    {
      "cell_type": "code",
      "metadata": {
        "id": "sUdvU22X8kDz",
        "colab_type": "code",
        "colab": {
          "base_uri": "https://localhost:8080/",
          "height": 1319
        },
        "outputId": "f5b97ac3-587c-4e46-9ba9-a6732c0bb25e"
      },
      "source": [
        "itemR = trainAndPredictItem(a)"
      ],
      "execution_count": 32,
      "outputs": [
        {
          "output_type": "stream",
          "text": [
            "Caculate: 0/22169, Finish:0.00 %\n",
            "Caculate: 300/22169, Finish:1.35 %\n",
            "Caculate: 600/22169, Finish:2.71 %\n",
            "Caculate: 900/22169, Finish:4.06 %\n",
            "Caculate: 1200/22169, Finish:5.41 %\n",
            "Caculate: 1500/22169, Finish:6.77 %\n",
            "Caculate: 1800/22169, Finish:8.12 %\n",
            "Caculate: 2100/22169, Finish:9.47 %\n",
            "Caculate: 2400/22169, Finish:10.83 %\n",
            "Caculate: 2700/22169, Finish:12.18 %\n",
            "Caculate: 3000/22169, Finish:13.53 %\n",
            "Caculate: 3300/22169, Finish:14.89 %\n",
            "Caculate: 3600/22169, Finish:16.24 %\n",
            "Caculate: 3900/22169, Finish:17.59 %\n",
            "Caculate: 4200/22169, Finish:18.95 %\n",
            "Caculate: 4500/22169, Finish:20.30 %\n",
            "Caculate: 4800/22169, Finish:21.65 %\n",
            "Caculate: 5100/22169, Finish:23.01 %\n",
            "Caculate: 5400/22169, Finish:24.36 %\n",
            "Caculate: 5700/22169, Finish:25.71 %\n",
            "Caculate: 6000/22169, Finish:27.06 %\n",
            "Caculate: 6300/22169, Finish:28.42 %\n",
            "Caculate: 6600/22169, Finish:29.77 %\n",
            "Caculate: 6900/22169, Finish:31.12 %\n",
            "Caculate: 7200/22169, Finish:32.48 %\n",
            "Caculate: 7500/22169, Finish:33.83 %\n",
            "Caculate: 7800/22169, Finish:35.18 %\n",
            "Caculate: 8100/22169, Finish:36.54 %\n",
            "Caculate: 8400/22169, Finish:37.89 %\n",
            "Caculate: 8700/22169, Finish:39.24 %\n",
            "Caculate: 9000/22169, Finish:40.60 %\n",
            "Caculate: 9300/22169, Finish:41.95 %\n",
            "Caculate: 9600/22169, Finish:43.30 %\n",
            "Caculate: 9900/22169, Finish:44.66 %\n",
            "Caculate: 10200/22169, Finish:46.01 %\n",
            "Caculate: 10500/22169, Finish:47.36 %\n",
            "Caculate: 10800/22169, Finish:48.72 %\n",
            "Caculate: 11100/22169, Finish:50.07 %\n",
            "Caculate: 11400/22169, Finish:51.42 %\n",
            "Caculate: 11700/22169, Finish:52.78 %\n",
            "Caculate: 12000/22169, Finish:54.13 %\n",
            "Caculate: 12300/22169, Finish:55.48 %\n",
            "Caculate: 12600/22169, Finish:56.84 %\n",
            "Caculate: 12900/22169, Finish:58.19 %\n",
            "Caculate: 13200/22169, Finish:59.54 %\n",
            "Caculate: 13500/22169, Finish:60.90 %\n",
            "Caculate: 13800/22169, Finish:62.25 %\n",
            "Caculate: 14100/22169, Finish:63.60 %\n",
            "Caculate: 14400/22169, Finish:64.96 %\n",
            "Caculate: 14700/22169, Finish:66.31 %\n",
            "Caculate: 15000/22169, Finish:67.66 %\n",
            "Caculate: 15300/22169, Finish:69.02 %\n",
            "Caculate: 15600/22169, Finish:70.37 %\n",
            "Caculate: 15900/22169, Finish:71.72 %\n",
            "Caculate: 16200/22169, Finish:73.08 %\n",
            "Caculate: 16500/22169, Finish:74.43 %\n",
            "Caculate: 16800/22169, Finish:75.78 %\n",
            "Caculate: 17100/22169, Finish:77.13 %\n",
            "Caculate: 17400/22169, Finish:78.49 %\n",
            "Caculate: 17700/22169, Finish:79.84 %\n",
            "Caculate: 18000/22169, Finish:81.19 %\n",
            "Caculate: 18300/22169, Finish:82.55 %\n",
            "Caculate: 18600/22169, Finish:83.90 %\n",
            "Caculate: 18900/22169, Finish:85.25 %\n",
            "Caculate: 19200/22169, Finish:86.61 %\n",
            "Caculate: 19500/22169, Finish:87.96 %\n",
            "Caculate: 19800/22169, Finish:89.31 %\n",
            "Caculate: 20100/22169, Finish:90.67 %\n",
            "Caculate: 20400/22169, Finish:92.02 %\n",
            "Caculate: 20700/22169, Finish:93.37 %\n",
            "Caculate: 21000/22169, Finish:94.73 %\n",
            "Caculate: 21300/22169, Finish:96.08 %\n",
            "Caculate: 21600/22169, Finish:97.43 %\n",
            "Caculate: 21900/22169, Finish:98.79 %\n"
          ],
          "name": "stdout"
        }
      ]
    },
    {
      "cell_type": "code",
      "metadata": {
        "id": "B3x2JJHs8kit",
        "colab_type": "code",
        "colab": {
          "base_uri": "https://localhost:8080/",
          "height": 34
        },
        "outputId": "4b3c8a97-182a-4c04-ca53-71a38b367d42"
      },
      "source": [
        "abs(np.min(np.array(itemR)))"
      ],
      "execution_count": 47,
      "outputs": [
        {
          "output_type": "execute_result",
          "data": {
            "text/plain": [
              "0.61449623"
            ]
          },
          "metadata": {
            "tags": []
          },
          "execution_count": 47
        }
      ]
    },
    {
      "cell_type": "code",
      "metadata": {
        "id": "jKqjnd058kgh",
        "colab_type": "code",
        "colab": {}
      },
      "source": [
        "itemRT = np.array(itemR) + abs(np.min(np.array(itemR)))"
      ],
      "execution_count": 0,
      "outputs": []
    },
    {
      "cell_type": "code",
      "metadata": {
        "id": "Cdg47MKg8keI",
        "colab_type": "code",
        "colab": {}
      },
      "source": [
        "itemRT = itemRT*10"
      ],
      "execution_count": 0,
      "outputs": []
    },
    {
      "cell_type": "code",
      "metadata": {
        "id": "xKPM2JH0GLC1",
        "colab_type": "code",
        "colab": {}
      },
      "source": [
        "#itemRT = np.around(itemRT)"
      ],
      "execution_count": 0,
      "outputs": []
    },
    {
      "cell_type": "code",
      "metadata": {
        "id": "R_G5rZrw8kcG",
        "colab_type": "code",
        "colab": {
          "base_uri": "https://localhost:8080/",
          "height": 34
        },
        "outputId": "5553f42f-3b8a-48ec-f3bd-1e23e8af1b28"
      },
      "source": [
        "np.sum(itemRT)"
      ],
      "execution_count": 51,
      "outputs": [
        {
          "output_type": "execute_result",
          "data": {
            "text/plain": [
              "136292.03"
            ]
          },
          "metadata": {
            "tags": []
          },
          "execution_count": 51
        }
      ]
    },
    {
      "cell_type": "code",
      "metadata": {
        "id": "kWljaxX_HqfY",
        "colab_type": "code",
        "colab": {}
      },
      "source": [
        "dataset = pd.DataFrame({'item_cnt_month':itemRT })"
      ],
      "execution_count": 0,
      "outputs": []
    },
    {
      "cell_type": "code",
      "metadata": {
        "id": "j0boJHVpjdF-",
        "colab_type": "code",
        "colab": {
          "base_uri": "https://localhost:8080/",
          "height": 343
        },
        "outputId": "9d6cf4c5-32dc-477f-e04c-b60cd7923c96"
      },
      "source": [
        "submission =  pd.DataFrame({'item_cnt_month' : itemRT})\n",
        "submission[:10]"
      ],
      "execution_count": 61,
      "outputs": [
        {
          "output_type": "execute_result",
          "data": {
            "text/html": [
              "<div>\n",
              "<style scoped>\n",
              "    .dataframe tbody tr th:only-of-type {\n",
              "        vertical-align: middle;\n",
              "    }\n",
              "\n",
              "    .dataframe tbody tr th {\n",
              "        vertical-align: top;\n",
              "    }\n",
              "\n",
              "    .dataframe thead th {\n",
              "        text-align: right;\n",
              "    }\n",
              "</style>\n",
              "<table border=\"1\" class=\"dataframe\">\n",
              "  <thead>\n",
              "    <tr style=\"text-align: right;\">\n",
              "      <th></th>\n",
              "      <th>item_cnt_month</th>\n",
              "    </tr>\n",
              "  </thead>\n",
              "  <tbody>\n",
              "    <tr>\n",
              "      <th>0</th>\n",
              "      <td>3.039027</td>\n",
              "    </tr>\n",
              "    <tr>\n",
              "      <th>1</th>\n",
              "      <td>1.985113</td>\n",
              "    </tr>\n",
              "    <tr>\n",
              "      <th>2</th>\n",
              "      <td>9.955719</td>\n",
              "    </tr>\n",
              "    <tr>\n",
              "      <th>3</th>\n",
              "      <td>10.245267</td>\n",
              "    </tr>\n",
              "    <tr>\n",
              "      <th>4</th>\n",
              "      <td>7.791918</td>\n",
              "    </tr>\n",
              "    <tr>\n",
              "      <th>5</th>\n",
              "      <td>9.676363</td>\n",
              "    </tr>\n",
              "    <tr>\n",
              "      <th>6</th>\n",
              "      <td>7.045464</td>\n",
              "    </tr>\n",
              "    <tr>\n",
              "      <th>7</th>\n",
              "      <td>6.173484</td>\n",
              "    </tr>\n",
              "    <tr>\n",
              "      <th>8</th>\n",
              "      <td>4.076000</td>\n",
              "    </tr>\n",
              "    <tr>\n",
              "      <th>9</th>\n",
              "      <td>2.380133</td>\n",
              "    </tr>\n",
              "  </tbody>\n",
              "</table>\n",
              "</div>"
            ],
            "text/plain": [
              "   item_cnt_month\n",
              "0        3.039027\n",
              "1        1.985113\n",
              "2        9.955719\n",
              "3       10.245267\n",
              "4        7.791918\n",
              "5        9.676363\n",
              "6        7.045464\n",
              "7        6.173484\n",
              "8        4.076000\n",
              "9        2.380133"
            ]
          },
          "metadata": {
            "tags": []
          },
          "execution_count": 61
        }
      ]
    },
    {
      "cell_type": "code",
      "metadata": {
        "id": "htfSkly-kPOZ",
        "colab_type": "code",
        "colab": {}
      },
      "source": [
        "submission.to_csv('submission.csv',header=True,index=True)"
      ],
      "execution_count": 0,
      "outputs": []
    },
    {
      "cell_type": "code",
      "metadata": {
        "id": "Lrse7IWDlPeu",
        "colab_type": "code",
        "colab": {}
      },
      "source": [
        ""
      ],
      "execution_count": 0,
      "outputs": []
    }
  ]
}