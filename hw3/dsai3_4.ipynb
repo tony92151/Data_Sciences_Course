{
 "cells": [
  {
   "cell_type": "markdown",
   "metadata": {
    "colab_type": "text",
    "id": "61hDcMi3xWSh"
   },
   "source": [
    "# Download data and unzip"
   ]
  },
  {
   "cell_type": "code",
   "execution_count": null,
   "metadata": {
    "colab": {
     "base_uri": "https://localhost:8080/",
     "height": 936
    },
    "colab_type": "code",
    "id": "9NYZbNYLQqOa",
    "outputId": "929c9a38-6203-40e7-d3ae-12260038190c"
   },
   "outputs": [
    {
     "name": "stdout",
     "output_type": "stream",
     "text": [
      "--2019-05-10 07:08:49--  https://docs.google.com/uc?export=download&id=1-mpuwj2H45sHGRa-N1PQ8qeBSzmM1ubx\n",
      "Resolving docs.google.com (docs.google.com)... 172.217.24.14, 2404:6800:4008:802::200e\n",
      "Connecting to docs.google.com (docs.google.com)|172.217.24.14|:443... connected.\n",
      "HTTP request sent, awaiting response... 302 Moved Temporarily\n",
      "Location: https://doc-00-ao-docs.googleusercontent.com/docs/securesc/ha0ro937gcuc7l7deffksulhg5h7mbp1/ti7c4dluujdekv008ueb89g5tfi7dpr5/1557439200000/10974934039054397010/*/1-mpuwj2H45sHGRa-N1PQ8qeBSzmM1ubx?e=download [following]\n",
      "Warning: wildcards not supported in HTTP.\n",
      "--2019-05-10 07:08:52--  https://doc-00-ao-docs.googleusercontent.com/docs/securesc/ha0ro937gcuc7l7deffksulhg5h7mbp1/ti7c4dluujdekv008ueb89g5tfi7dpr5/1557439200000/10974934039054397010/*/1-mpuwj2H45sHGRa-N1PQ8qeBSzmM1ubx?e=download\n",
      "Resolving doc-00-ao-docs.googleusercontent.com (doc-00-ao-docs.googleusercontent.com)... 172.217.160.97, 2404:6800:4012:1::2001\n",
      "Connecting to doc-00-ao-docs.googleusercontent.com (doc-00-ao-docs.googleusercontent.com)|172.217.160.97|:443... connected.\n",
      "HTTP request sent, awaiting response... 200 OK\n",
      "Length: unspecified [application/zip]\n",
      "Saving to: ‘competitive-data-science-predict-future-sales.zip.1’\n",
      "\n",
      "competitive-data-sc     [       <=>          ]  14.26M  10.4MB/s    in 1.4s    \n",
      "\n",
      "2019-05-10 07:08:54 (10.4 MB/s) - ‘competitive-data-science-predict-future-sales.zip.1’ saved [14948480]\n",
      "\n",
      "E: Could not open lock file /var/lib/dpkg/lock-frontend - open (13: Permission denied)\n",
      "E: Unable to acquire the dpkg frontend lock (/var/lib/dpkg/lock-frontend), are you root?\n",
      "Archive:  competitive-data-science-predict-future-sales.zip\n",
      "  inflating: data/test.csv.gz        \n",
      "  inflating: data/sample_submission.csv.gz  \n",
      "  inflating: data/sales_train.csv.gz  \n",
      "replace data/shops.csv? [y]es, [n]o, [A]ll, [N]one, [r]ename: ^C\n",
      "gzip: data/test.csv already exists; do you wish to overwrite (y or n)? "
     ]
    }
   ],
   "source": [
    "!wget --content-disposition 'https://docs.google.com/uc?export=download&id=1-mpuwj2H45sHGRa-N1PQ8qeBSzmM1ubx' \n",
    "!apt-get install unzip\n",
    "!unzip 'competitive-data-science-predict-future-sales.zip' -d data\n",
    "!gunzip 'data/test.csv.gz'\n",
    "!gunzip 'data/sample_submission.csv.gz'\n",
    "!gunzip 'data/sales_train.csv.gz'"
   ]
  },
  {
   "cell_type": "code",
   "execution_count": 1,
   "metadata": {
    "colab": {},
    "colab_type": "code",
    "id": "cmlWY8tvUMwP"
   },
   "outputs": [],
   "source": [
    "import torch\n",
    "from torch import nn, optim\n",
    "import torch.nn.functional as F\n",
    "import matplotlib.pyplot as plt\n",
    "import sys\n",
    "import time\n",
    "import numpy as np\n",
    "import math\n",
    "import pandas as pd\n",
    "from datetime import datetime\n",
    "from torch.autograd import Variable\n",
    "from torch.utils.data import Dataset, DataLoader\n",
    "import random\n",
    "import datetime"
   ]
  },
  {
   "cell_type": "code",
   "execution_count": 2,
   "metadata": {
    "colab": {},
    "colab_type": "code",
    "id": "xMeZtGPOve2W"
   },
   "outputs": [],
   "source": [
    "# items = pd.read_csv('data/items.csv')\n",
    "# shops = pd.read_csv('data/shops.csv')\n",
    "# cats = pd.read_csv('data/item_categories.csv')\n",
    "train = pd.read_csv('data/sales_train.csv', parse_dates=['date'], infer_datetime_format=True, dayfirst=True)\n",
    "\n",
    "test  = pd.read_csv('data/test.csv').set_index('ID')"
   ]
  },
  {
   "cell_type": "code",
   "execution_count": 3,
   "metadata": {
    "colab": {
     "base_uri": "https://localhost:8080/",
     "height": 432
    },
    "colab_type": "code",
    "id": "WrrEclBov0w_",
    "outputId": "0433c449-bb5f-421d-eb67-822e55afc9e7"
   },
   "outputs": [
    {
     "name": "stdout",
     "output_type": "stream",
     "text": [
      "number of shops:  59\n",
      "number of items:  22169\n",
      "number of month:  33\n",
      "size of train:  (2935849, 6)\n"
     ]
    },
    {
     "data": {
      "text/html": [
       "<div>\n",
       "<style scoped>\n",
       "    .dataframe tbody tr th:only-of-type {\n",
       "        vertical-align: middle;\n",
       "    }\n",
       "\n",
       "    .dataframe tbody tr th {\n",
       "        vertical-align: top;\n",
       "    }\n",
       "\n",
       "    .dataframe thead th {\n",
       "        text-align: right;\n",
       "    }\n",
       "</style>\n",
       "<table border=\"1\" class=\"dataframe\">\n",
       "  <thead>\n",
       "    <tr style=\"text-align: right;\">\n",
       "      <th></th>\n",
       "      <th>date</th>\n",
       "      <th>date_block_num</th>\n",
       "      <th>shop_id</th>\n",
       "      <th>item_id</th>\n",
       "      <th>item_price</th>\n",
       "      <th>item_cnt_day</th>\n",
       "    </tr>\n",
       "  </thead>\n",
       "  <tbody>\n",
       "    <tr>\n",
       "      <th>0</th>\n",
       "      <td>2013-01-02</td>\n",
       "      <td>0</td>\n",
       "      <td>59</td>\n",
       "      <td>22154</td>\n",
       "      <td>999.00</td>\n",
       "      <td>1.0</td>\n",
       "    </tr>\n",
       "    <tr>\n",
       "      <th>1</th>\n",
       "      <td>2013-01-03</td>\n",
       "      <td>0</td>\n",
       "      <td>25</td>\n",
       "      <td>2552</td>\n",
       "      <td>899.00</td>\n",
       "      <td>1.0</td>\n",
       "    </tr>\n",
       "    <tr>\n",
       "      <th>2</th>\n",
       "      <td>2013-01-05</td>\n",
       "      <td>0</td>\n",
       "      <td>25</td>\n",
       "      <td>2552</td>\n",
       "      <td>899.00</td>\n",
       "      <td>-1.0</td>\n",
       "    </tr>\n",
       "    <tr>\n",
       "      <th>3</th>\n",
       "      <td>2013-01-06</td>\n",
       "      <td>0</td>\n",
       "      <td>25</td>\n",
       "      <td>2554</td>\n",
       "      <td>1709.05</td>\n",
       "      <td>1.0</td>\n",
       "    </tr>\n",
       "    <tr>\n",
       "      <th>4</th>\n",
       "      <td>2013-01-15</td>\n",
       "      <td>0</td>\n",
       "      <td>25</td>\n",
       "      <td>2555</td>\n",
       "      <td>1099.00</td>\n",
       "      <td>1.0</td>\n",
       "    </tr>\n",
       "    <tr>\n",
       "      <th>5</th>\n",
       "      <td>2013-01-10</td>\n",
       "      <td>0</td>\n",
       "      <td>25</td>\n",
       "      <td>2564</td>\n",
       "      <td>349.00</td>\n",
       "      <td>1.0</td>\n",
       "    </tr>\n",
       "    <tr>\n",
       "      <th>6</th>\n",
       "      <td>2013-01-02</td>\n",
       "      <td>0</td>\n",
       "      <td>25</td>\n",
       "      <td>2565</td>\n",
       "      <td>549.00</td>\n",
       "      <td>1.0</td>\n",
       "    </tr>\n",
       "    <tr>\n",
       "      <th>7</th>\n",
       "      <td>2013-01-04</td>\n",
       "      <td>0</td>\n",
       "      <td>25</td>\n",
       "      <td>2572</td>\n",
       "      <td>239.00</td>\n",
       "      <td>1.0</td>\n",
       "    </tr>\n",
       "    <tr>\n",
       "      <th>8</th>\n",
       "      <td>2013-01-11</td>\n",
       "      <td>0</td>\n",
       "      <td>25</td>\n",
       "      <td>2572</td>\n",
       "      <td>299.00</td>\n",
       "      <td>1.0</td>\n",
       "    </tr>\n",
       "    <tr>\n",
       "      <th>9</th>\n",
       "      <td>2013-01-03</td>\n",
       "      <td>0</td>\n",
       "      <td>25</td>\n",
       "      <td>2573</td>\n",
       "      <td>299.00</td>\n",
       "      <td>3.0</td>\n",
       "    </tr>\n",
       "  </tbody>\n",
       "</table>\n",
       "</div>"
      ],
      "text/plain": [
       "        date  date_block_num  shop_id  item_id  item_price  item_cnt_day\n",
       "0 2013-01-02               0       59    22154      999.00           1.0\n",
       "1 2013-01-03               0       25     2552      899.00           1.0\n",
       "2 2013-01-05               0       25     2552      899.00          -1.0\n",
       "3 2013-01-06               0       25     2554     1709.05           1.0\n",
       "4 2013-01-15               0       25     2555     1099.00           1.0\n",
       "5 2013-01-10               0       25     2564      349.00           1.0\n",
       "6 2013-01-02               0       25     2565      549.00           1.0\n",
       "7 2013-01-04               0       25     2572      239.00           1.0\n",
       "8 2013-01-11               0       25     2572      299.00           1.0\n",
       "9 2013-01-03               0       25     2573      299.00           3.0"
      ]
     },
     "execution_count": 3,
     "metadata": {},
     "output_type": "execute_result"
    }
   ],
   "source": [
    "num_shops = train['shop_id'].max()\n",
    "print ('number of shops: ',num_shops )\n",
    "\n",
    "num_items = train['item_id'].max()\n",
    "print ('number of items: ', num_items)\n",
    "num_month = train['date_block_num'].max()\n",
    "print ('number of month: ', num_month)\n",
    "print ('size of train: ', train.shape)\n",
    "train[:10]"
   ]
  },
  {
   "cell_type": "code",
   "execution_count": 4,
   "metadata": {
    "colab": {
     "base_uri": "https://localhost:8080/",
     "height": 394
    },
    "colab_type": "code",
    "id": "ShK4OARnkUl5",
    "outputId": "bff32bd0-82a9-4ec8-fa05-f5a6daac1d2a"
   },
   "outputs": [
    {
     "data": {
      "text/html": [
       "<div>\n",
       "<style scoped>\n",
       "    .dataframe tbody tr th:only-of-type {\n",
       "        vertical-align: middle;\n",
       "    }\n",
       "\n",
       "    .dataframe tbody tr th {\n",
       "        vertical-align: top;\n",
       "    }\n",
       "\n",
       "    .dataframe thead th {\n",
       "        text-align: right;\n",
       "    }\n",
       "</style>\n",
       "<table border=\"1\" class=\"dataframe\">\n",
       "  <thead>\n",
       "    <tr style=\"text-align: right;\">\n",
       "      <th></th>\n",
       "      <th>shop_id</th>\n",
       "      <th>item_id</th>\n",
       "    </tr>\n",
       "    <tr>\n",
       "      <th>ID</th>\n",
       "      <th></th>\n",
       "      <th></th>\n",
       "    </tr>\n",
       "  </thead>\n",
       "  <tbody>\n",
       "    <tr>\n",
       "      <th>0</th>\n",
       "      <td>5</td>\n",
       "      <td>5037</td>\n",
       "    </tr>\n",
       "    <tr>\n",
       "      <th>1</th>\n",
       "      <td>5</td>\n",
       "      <td>5320</td>\n",
       "    </tr>\n",
       "    <tr>\n",
       "      <th>2</th>\n",
       "      <td>5</td>\n",
       "      <td>5233</td>\n",
       "    </tr>\n",
       "    <tr>\n",
       "      <th>3</th>\n",
       "      <td>5</td>\n",
       "      <td>5232</td>\n",
       "    </tr>\n",
       "    <tr>\n",
       "      <th>4</th>\n",
       "      <td>5</td>\n",
       "      <td>5268</td>\n",
       "    </tr>\n",
       "    <tr>\n",
       "      <th>5</th>\n",
       "      <td>5</td>\n",
       "      <td>5039</td>\n",
       "    </tr>\n",
       "    <tr>\n",
       "      <th>6</th>\n",
       "      <td>5</td>\n",
       "      <td>5041</td>\n",
       "    </tr>\n",
       "    <tr>\n",
       "      <th>7</th>\n",
       "      <td>5</td>\n",
       "      <td>5046</td>\n",
       "    </tr>\n",
       "    <tr>\n",
       "      <th>8</th>\n",
       "      <td>5</td>\n",
       "      <td>5319</td>\n",
       "    </tr>\n",
       "    <tr>\n",
       "      <th>9</th>\n",
       "      <td>5</td>\n",
       "      <td>5003</td>\n",
       "    </tr>\n",
       "  </tbody>\n",
       "</table>\n",
       "</div>"
      ],
      "text/plain": [
       "    shop_id  item_id\n",
       "ID                  \n",
       "0         5     5037\n",
       "1         5     5320\n",
       "2         5     5233\n",
       "3         5     5232\n",
       "4         5     5268\n",
       "5         5     5039\n",
       "6         5     5041\n",
       "7         5     5046\n",
       "8         5     5319\n",
       "9         5     5003"
      ]
     },
     "execution_count": 4,
     "metadata": {},
     "output_type": "execute_result"
    }
   ],
   "source": [
    "test[:10]"
   ]
  },
  {
   "cell_type": "code",
   "execution_count": 5,
   "metadata": {
    "colab": {
     "base_uri": "https://localhost:8080/",
     "height": 139
    },
    "colab_type": "code",
    "id": "Nmp5ZSQnkY_Y",
    "outputId": "50179c93-469a-4841-c5ec-1453c171e34b"
   },
   "outputs": [
    {
     "data": {
      "text/plain": [
       "array([[    5,  5037],\n",
       "       [    5,  5320],\n",
       "       [    5,  5233],\n",
       "       ...,\n",
       "       [   45, 15757],\n",
       "       [   45, 19648],\n",
       "       [   45,   969]])"
      ]
     },
     "execution_count": 5,
     "metadata": {},
     "output_type": "execute_result"
    }
   ],
   "source": [
    "np.array(test)"
   ]
  },
  {
   "cell_type": "code",
   "execution_count": 6,
   "metadata": {
    "colab": {
     "base_uri": "https://localhost:8080/",
     "height": 363
    },
    "colab_type": "code",
    "id": "8NdEi01eM5I-",
    "outputId": "23e50ca8-4f48-45d3-cab1-43c2a28a271e"
   },
   "outputs": [
    {
     "data": {
      "text/html": [
       "<div>\n",
       "<style scoped>\n",
       "    .dataframe tbody tr th:only-of-type {\n",
       "        vertical-align: middle;\n",
       "    }\n",
       "\n",
       "    .dataframe tbody tr th {\n",
       "        vertical-align: top;\n",
       "    }\n",
       "\n",
       "    .dataframe thead th {\n",
       "        text-align: right;\n",
       "    }\n",
       "</style>\n",
       "<table border=\"1\" class=\"dataframe\">\n",
       "  <thead>\n",
       "    <tr style=\"text-align: right;\">\n",
       "      <th></th>\n",
       "      <th>date_block_num</th>\n",
       "      <th>shop_id</th>\n",
       "      <th>item_id</th>\n",
       "      <th>item_cnt_day</th>\n",
       "    </tr>\n",
       "  </thead>\n",
       "  <tbody>\n",
       "    <tr>\n",
       "      <th>0</th>\n",
       "      <td>0</td>\n",
       "      <td>0</td>\n",
       "      <td>32</td>\n",
       "      <td>6.0</td>\n",
       "    </tr>\n",
       "    <tr>\n",
       "      <th>1</th>\n",
       "      <td>0</td>\n",
       "      <td>0</td>\n",
       "      <td>33</td>\n",
       "      <td>3.0</td>\n",
       "    </tr>\n",
       "    <tr>\n",
       "      <th>2</th>\n",
       "      <td>0</td>\n",
       "      <td>0</td>\n",
       "      <td>35</td>\n",
       "      <td>1.0</td>\n",
       "    </tr>\n",
       "    <tr>\n",
       "      <th>3</th>\n",
       "      <td>0</td>\n",
       "      <td>0</td>\n",
       "      <td>43</td>\n",
       "      <td>1.0</td>\n",
       "    </tr>\n",
       "    <tr>\n",
       "      <th>4</th>\n",
       "      <td>0</td>\n",
       "      <td>0</td>\n",
       "      <td>51</td>\n",
       "      <td>2.0</td>\n",
       "    </tr>\n",
       "    <tr>\n",
       "      <th>5</th>\n",
       "      <td>0</td>\n",
       "      <td>0</td>\n",
       "      <td>61</td>\n",
       "      <td>1.0</td>\n",
       "    </tr>\n",
       "    <tr>\n",
       "      <th>6</th>\n",
       "      <td>0</td>\n",
       "      <td>0</td>\n",
       "      <td>75</td>\n",
       "      <td>1.0</td>\n",
       "    </tr>\n",
       "    <tr>\n",
       "      <th>7</th>\n",
       "      <td>0</td>\n",
       "      <td>0</td>\n",
       "      <td>88</td>\n",
       "      <td>1.0</td>\n",
       "    </tr>\n",
       "    <tr>\n",
       "      <th>8</th>\n",
       "      <td>0</td>\n",
       "      <td>0</td>\n",
       "      <td>95</td>\n",
       "      <td>1.0</td>\n",
       "    </tr>\n",
       "    <tr>\n",
       "      <th>9</th>\n",
       "      <td>0</td>\n",
       "      <td>0</td>\n",
       "      <td>96</td>\n",
       "      <td>1.0</td>\n",
       "    </tr>\n",
       "  </tbody>\n",
       "</table>\n",
       "</div>"
      ],
      "text/plain": [
       "   date_block_num  shop_id  item_id  item_cnt_day\n",
       "0               0        0       32           6.0\n",
       "1               0        0       33           3.0\n",
       "2               0        0       35           1.0\n",
       "3               0        0       43           1.0\n",
       "4               0        0       51           2.0\n",
       "5               0        0       61           1.0\n",
       "6               0        0       75           1.0\n",
       "7               0        0       88           1.0\n",
       "8               0        0       95           1.0\n",
       "9               0        0       96           1.0"
      ]
     },
     "execution_count": 6,
     "metadata": {},
     "output_type": "execute_result"
    }
   ],
   "source": [
    "train_num = train.groupby(['date_block_num','shop_id','item_id']).sum().reset_index()\n",
    "train_num = train_num.drop(labels=['item_price'], axis=1)\n",
    "train_num[:10]\n"
   ]
  },
  {
   "cell_type": "code",
   "execution_count": 7,
   "metadata": {
    "colab": {},
    "colab_type": "code",
    "id": "XeiGCkVNk6cz"
   },
   "outputs": [],
   "source": [
    "def GetValue(data,inpu):\n",
    "  data = np.array(data).astype('int')\n",
    "  inpu = np.array(inpu).astype('int')\n",
    "  \n",
    "  lent = len(inpu)\n",
    "  \n",
    "  for i in range(lent):\n",
    "    d = inpu[i]\n",
    "    #print(d)\n",
    "    data[d[1],d[2],d[0]] = d[3]\n",
    "  return data\n",
    "    "
   ]
  },
  {
   "cell_type": "code",
   "execution_count": 8,
   "metadata": {
    "colab": {},
    "colab_type": "code",
    "id": "2D-L-2JAkJII"
   },
   "outputs": [],
   "source": [
    "def CreatDataSe(train_num,num_shops,num_item,num_month):\n",
    "  S = []\n",
    "  for x in range(num_shops+1):\n",
    "    I = []\n",
    "    for y in range(num_item+1):\n",
    "      M = []\n",
    "      for z in range(num_month+1):\n",
    "        value = 0\n",
    "        M.append(value)\n",
    "      I.append(M)\n",
    "      #print('item : '+format(y))\n",
    "    S.append(I)\n",
    "    #print('shop : '+format(x))\n",
    "  return np.array(S).astype('int')\n",
    "  "
   ]
  },
  {
   "cell_type": "code",
   "execution_count": 9,
   "metadata": {
    "colab": {},
    "colab_type": "code",
    "id": "4sXsfMhwl7tN"
   },
   "outputs": [],
   "source": [
    "S = CreatDataSe(train_num,num_shops,num_items,num_month)"
   ]
  },
  {
   "cell_type": "code",
   "execution_count": 10,
   "metadata": {
    "colab": {
     "base_uri": "https://localhost:8080/",
     "height": 34
    },
    "colab_type": "code",
    "id": "3wNP4T1b5Ca_",
    "outputId": "6ef1308e-6448-4b6f-80a0-6d57f69a0ef9"
   },
   "outputs": [
    {
     "data": {
      "text/plain": [
       "(60, 22170, 34)"
      ]
     },
     "execution_count": 10,
     "metadata": {},
     "output_type": "execute_result"
    }
   ],
   "source": [
    "S.shape"
   ]
  },
  {
   "cell_type": "code",
   "execution_count": 11,
   "metadata": {
    "colab": {
     "base_uri": "https://localhost:8080/",
     "height": 52
    },
    "colab_type": "code",
    "id": "RQI1SkTd6Bf9",
    "outputId": "fdae0396-dda9-45e1-99ca-b892faf51652"
   },
   "outputs": [
    {
     "data": {
      "text/plain": [
       "array([0, 0, 0, 0, 0, 0, 0, 0, 0, 0, 0, 0, 0, 0, 0, 0, 0, 0, 0, 0, 0, 0,\n",
       "       0, 0, 0, 0, 0, 0, 0, 0, 0, 0, 0, 0])"
      ]
     },
     "execution_count": 11,
     "metadata": {},
     "output_type": "execute_result"
    }
   ],
   "source": [
    "S[58,10,:]"
   ]
  },
  {
   "cell_type": "code",
   "execution_count": 12,
   "metadata": {
    "colab": {},
    "colab_type": "code",
    "id": "Z-Nc6NXv1rgK"
   },
   "outputs": [],
   "source": [
    "G = GetValue(S,train_num)"
   ]
  },
  {
   "cell_type": "code",
   "execution_count": 13,
   "metadata": {
    "colab": {
     "base_uri": "https://localhost:8080/",
     "height": 139
    },
    "colab_type": "code",
    "id": "9aY0uUAvwJKk",
    "outputId": "85223ebc-25a2-48f8-ea11-a5d88a8105b5"
   },
   "outputs": [
    {
     "data": {
      "text/plain": [
       "array([[0, 0, 0, ..., 0, 0, 0],\n",
       "       [0, 0, 0, ..., 0, 0, 0],\n",
       "       [0, 0, 0, ..., 0, 0, 0],\n",
       "       ...,\n",
       "       [0, 0, 0, ..., 0, 0, 1],\n",
       "       [0, 0, 0, ..., 0, 0, 0],\n",
       "       [0, 0, 0, ..., 0, 0, 0]])"
      ]
     },
     "execution_count": 13,
     "metadata": {},
     "output_type": "execute_result"
    }
   ],
   "source": [
    "G[10]"
   ]
  },
  {
   "cell_type": "code",
   "execution_count": 14,
   "metadata": {
    "colab": {
     "base_uri": "https://localhost:8080/",
     "height": 139
    },
    "colab_type": "code",
    "id": "JK2XOz5Y3zQh",
    "outputId": "e930940a-ab5d-404b-c3d1-b17d1cdf2885"
   },
   "outputs": [
    {
     "data": {
      "text/plain": [
       "array([[    5,  5037],\n",
       "       [    5,  5320],\n",
       "       [    5,  5233],\n",
       "       ...,\n",
       "       [   45, 15757],\n",
       "       [   45, 19648],\n",
       "       [   45,   969]])"
      ]
     },
     "execution_count": 14,
     "metadata": {},
     "output_type": "execute_result"
    }
   ],
   "source": [
    "np.array(test)"
   ]
  },
  {
   "cell_type": "code",
   "execution_count": 15,
   "metadata": {
    "colab": {
     "base_uri": "https://localhost:8080/",
     "height": 34
    },
    "colab_type": "code",
    "id": "nFUv_daD3zTt",
    "outputId": "3caaf6e4-2cdc-4d78-fa26-3eb972500c5d"
   },
   "outputs": [
    {
     "data": {
      "text/plain": [
       "(60, 22170, 34)"
      ]
     },
     "execution_count": 15,
     "metadata": {},
     "output_type": "execute_result"
    }
   ],
   "source": [
    "G.shape"
   ]
  },
  {
   "cell_type": "code",
   "execution_count": 16,
   "metadata": {
    "colab": {
     "base_uri": "https://localhost:8080/",
     "height": 52
    },
    "colab_type": "code",
    "id": "MzufO-Dr3zWN",
    "outputId": "f3513c5a-9d0f-4f7c-ada1-c104025e0f16"
   },
   "outputs": [
    {
     "data": {
      "text/plain": [
       "array([0, 0, 0, 0, 0, 0, 0, 0, 0, 0, 0, 0, 5, 2, 2, 1, 0, 4, 0, 0, 0, 0,\n",
       "       0, 0, 0, 0, 0, 0, 0, 0, 0, 0, 0, 0])"
      ]
     },
     "execution_count": 16,
     "metadata": {},
     "output_type": "execute_result"
    }
   ],
   "source": [
    "G[42,13485,:]"
   ]
  },
  {
   "cell_type": "code",
   "execution_count": 17,
   "metadata": {
    "colab": {},
    "colab_type": "code",
    "id": "tglrS7619M8Q"
   },
   "outputs": [],
   "source": [
    "def create_dataset(dataset,on,look_back=2):\n",
    "    dataX, dataY=[], []\n",
    "    for i in range(len(dataset)-look_back):\n",
    "        a=dataset[i:(i+look_back)]\n",
    "        dataX.append(a)\n",
    "        \n",
    "        #dataX.append()\n",
    "        dataY.append(dataset[i+look_back])\n",
    "    return np.array(dataX), np.array(dataY)"
   ]
  },
  {
   "cell_type": "code",
   "execution_count": 18,
   "metadata": {
    "colab": {},
    "colab_type": "code",
    "id": "pzJX-YH49M_M"
   },
   "outputs": [],
   "source": [
    "def appendPrediction(NET,Data,week):#7 week\n",
    "  for i in range(week):\n",
    "    length  = len(Data)\n",
    "    pre_in = np.array([[Data[length-2],Data[length-1]]])\n",
    "    #print(length)\n",
    "    \n",
    "    pre_in = torch.unsqueeze(torch.from_numpy(pre_in), dim=1).float().cuda()\n",
    "    #print(pre_in)\n",
    "    peak_add = NET(pre_in).view(-1).data.cpu().numpy()[0]\n",
    "    #print(peak_add)\n",
    "    Data = np.append(Data,peak_add)\n",
    "    \n",
    "  return Data"
   ]
  },
  {
   "cell_type": "code",
   "execution_count": 19,
   "metadata": {
    "colab": {},
    "colab_type": "code",
    "id": "Nhr4JNal92Ip"
   },
   "outputs": [],
   "source": [
    "class lstm_reg(torch.nn.Module):\n",
    "  \n",
    "  def __init__(self,input_size,hidden_size, output_size=1,num_layers=2):\n",
    "    super(lstm_reg,self).__init__()\n",
    "\n",
    "    self.rnn = torch.nn.LSTM(input_size,hidden_size,num_layers)\n",
    "    self.reg = torch.nn.Linear(hidden_size,output_size)\n",
    "\n",
    "  def forward(self,x):\n",
    "    x, _ = self.rnn(x)\n",
    "    s,b,h = x.shape\n",
    "    x = x.view(s*b, h)\n",
    "    x = self.reg(x)\n",
    "    x = x.view(s,b,-1)\n",
    "    return x"
   ]
  },
  {
   "cell_type": "code",
   "execution_count": 20,
   "metadata": {
    "colab": {},
    "colab_type": "code",
    "id": "T5zO-F9t9NCn"
   },
   "outputs": [],
   "source": [
    "def trainAndPredictItem(data,a):\n",
    "  a = np.array(a)\n",
    "  data = np.array(data)\n",
    "  iteamNum = []\n",
    "  length = len(a)\n",
    "  for i in range(length):\n",
    "    d = data[a[i,0],a[i,1],:]\n",
    "    #print(d)\n",
    "    train_X2 ,train_Y2 = create_dataset(d.reshape(len(d),1),2)\n",
    "    train_x2 = train_X2.reshape(-1,1,2)\n",
    "    train_y2 = train_Y2.reshape(-1,1,1)\n",
    "    train_x2 = Variable(torch.from_numpy(train_x2)).float()\n",
    "    train_y2 = Variable(torch.from_numpy(train_y2)).float()\n",
    "    Net = lstm_reg(2,8).cuda()\n",
    "    criterion = torch.nn.MSELoss()\n",
    "    optimizer1 = torch.optim.Adam(Net.parameters(),lr=1e-2)\n",
    "    for e in range(10):\n",
    "      var_x2 = Variable(train_x2).cuda()\n",
    "      var_y2 = Variable(train_y2).cuda()\n",
    "      out = Net(var_x2)\n",
    "      loss = criterion(out, var_y2)\n",
    "      optimizer1.zero_grad()\n",
    "      loss.backward()\n",
    "      optimizer1.step()\n",
    "    pred = Net(Variable(train_x2).cuda())\n",
    "    pred = pred.view(-1).data.cpu().numpy()\n",
    "    pred = appendPrediction(Net,pred,1)\n",
    "    s = pred[len(pred)-1]\n",
    "    iteamNum.append(s)\n",
    "    if i%800==0:\n",
    "      print('Caculate: {}/{}, Finish:{:.2f} %'.format(i,length,100*(i/length)))\n",
    "  return iteamNum"
   ]
  },
  {
   "cell_type": "code",
   "execution_count": 21,
   "metadata": {
    "colab": {
     "base_uri": "https://localhost:8080/",
     "height": 52
    },
    "colab_type": "code",
    "id": "_kKLa2uG9M6V",
    "outputId": "b8a02e95-31c0-490a-ddd3-31bde3bbe19f"
   },
   "outputs": [
    {
     "name": "stdout",
     "output_type": "stream",
     "text": [
      "Caculate: 0/214200, Finish:0.00 %\n",
      "Caculate: 800/214200, Finish:0.37 %\n",
      "Caculate: 1600/214200, Finish:0.75 %\n",
      "Caculate: 2400/214200, Finish:1.12 %\n",
      "Caculate: 3200/214200, Finish:1.49 %\n",
      "Caculate: 4000/214200, Finish:1.87 %\n",
      "Caculate: 4800/214200, Finish:2.24 %\n",
      "Caculate: 5600/214200, Finish:2.61 %\n",
      "Caculate: 6400/214200, Finish:2.99 %\n",
      "Caculate: 7200/214200, Finish:3.36 %\n",
      "Caculate: 8000/214200, Finish:3.73 %\n",
      "Caculate: 8800/214200, Finish:4.11 %\n",
      "Caculate: 9600/214200, Finish:4.48 %\n",
      "Caculate: 10400/214200, Finish:4.86 %\n",
      "Caculate: 11200/214200, Finish:5.23 %\n",
      "Caculate: 12000/214200, Finish:5.60 %\n",
      "Caculate: 12800/214200, Finish:5.98 %\n",
      "Caculate: 13600/214200, Finish:6.35 %\n",
      "Caculate: 14400/214200, Finish:6.72 %\n",
      "Caculate: 15200/214200, Finish:7.10 %\n",
      "Caculate: 16000/214200, Finish:7.47 %\n",
      "Caculate: 16800/214200, Finish:7.84 %\n",
      "Caculate: 17600/214200, Finish:8.22 %\n",
      "Caculate: 18400/214200, Finish:8.59 %\n",
      "Caculate: 19200/214200, Finish:8.96 %\n",
      "Caculate: 20000/214200, Finish:9.34 %\n",
      "Caculate: 20800/214200, Finish:9.71 %\n",
      "Caculate: 21600/214200, Finish:10.08 %\n",
      "Caculate: 22400/214200, Finish:10.46 %\n",
      "Caculate: 23200/214200, Finish:10.83 %\n",
      "Caculate: 24000/214200, Finish:11.20 %\n",
      "Caculate: 24800/214200, Finish:11.58 %\n",
      "Caculate: 25600/214200, Finish:11.95 %\n",
      "Caculate: 26400/214200, Finish:12.32 %\n",
      "Caculate: 27200/214200, Finish:12.70 %\n",
      "Caculate: 28000/214200, Finish:13.07 %\n",
      "Caculate: 28800/214200, Finish:13.45 %\n",
      "Caculate: 29600/214200, Finish:13.82 %\n",
      "Caculate: 30400/214200, Finish:14.19 %\n",
      "Caculate: 31200/214200, Finish:14.57 %\n",
      "Caculate: 32000/214200, Finish:14.94 %\n",
      "Caculate: 32800/214200, Finish:15.31 %\n",
      "Caculate: 33600/214200, Finish:15.69 %\n",
      "Caculate: 34400/214200, Finish:16.06 %\n",
      "Caculate: 35200/214200, Finish:16.43 %\n",
      "Caculate: 36000/214200, Finish:16.81 %\n",
      "Caculate: 36800/214200, Finish:17.18 %\n",
      "Caculate: 37600/214200, Finish:17.55 %\n",
      "Caculate: 38400/214200, Finish:17.93 %\n",
      "Caculate: 39200/214200, Finish:18.30 %\n",
      "Caculate: 40000/214200, Finish:18.67 %\n",
      "Caculate: 40800/214200, Finish:19.05 %\n",
      "Caculate: 41600/214200, Finish:19.42 %\n",
      "Caculate: 42400/214200, Finish:19.79 %\n",
      "Caculate: 43200/214200, Finish:20.17 %\n",
      "Caculate: 44000/214200, Finish:20.54 %\n",
      "Caculate: 44800/214200, Finish:20.92 %\n",
      "Caculate: 45600/214200, Finish:21.29 %\n",
      "Caculate: 46400/214200, Finish:21.66 %\n",
      "Caculate: 47200/214200, Finish:22.04 %\n",
      "Caculate: 48000/214200, Finish:22.41 %\n",
      "Caculate: 48800/214200, Finish:22.78 %\n",
      "Caculate: 49600/214200, Finish:23.16 %\n",
      "Caculate: 50400/214200, Finish:23.53 %\n",
      "Caculate: 51200/214200, Finish:23.90 %\n",
      "Caculate: 52000/214200, Finish:24.28 %\n",
      "Caculate: 52800/214200, Finish:24.65 %\n",
      "Caculate: 53600/214200, Finish:25.02 %\n",
      "Caculate: 54400/214200, Finish:25.40 %\n",
      "Caculate: 55200/214200, Finish:25.77 %\n",
      "Caculate: 56000/214200, Finish:26.14 %\n",
      "Caculate: 56800/214200, Finish:26.52 %\n",
      "Caculate: 57600/214200, Finish:26.89 %\n",
      "Caculate: 58400/214200, Finish:27.26 %\n",
      "Caculate: 59200/214200, Finish:27.64 %\n",
      "Caculate: 60000/214200, Finish:28.01 %\n",
      "Caculate: 60800/214200, Finish:28.38 %\n",
      "Caculate: 61600/214200, Finish:28.76 %\n",
      "Caculate: 62400/214200, Finish:29.13 %\n",
      "Caculate: 63200/214200, Finish:29.51 %\n",
      "Caculate: 64000/214200, Finish:29.88 %\n",
      "Caculate: 64800/214200, Finish:30.25 %\n",
      "Caculate: 65600/214200, Finish:30.63 %\n",
      "Caculate: 66400/214200, Finish:31.00 %\n",
      "Caculate: 67200/214200, Finish:31.37 %\n",
      "Caculate: 68000/214200, Finish:31.75 %\n",
      "Caculate: 68800/214200, Finish:32.12 %\n",
      "Caculate: 69600/214200, Finish:32.49 %\n",
      "Caculate: 70400/214200, Finish:32.87 %\n",
      "Caculate: 71200/214200, Finish:33.24 %\n",
      "Caculate: 72000/214200, Finish:33.61 %\n",
      "Caculate: 72800/214200, Finish:33.99 %\n",
      "Caculate: 73600/214200, Finish:34.36 %\n",
      "Caculate: 74400/214200, Finish:34.73 %\n",
      "Caculate: 75200/214200, Finish:35.11 %\n",
      "Caculate: 76000/214200, Finish:35.48 %\n",
      "Caculate: 76800/214200, Finish:35.85 %\n",
      "Caculate: 77600/214200, Finish:36.23 %\n",
      "Caculate: 78400/214200, Finish:36.60 %\n",
      "Caculate: 79200/214200, Finish:36.97 %\n",
      "Caculate: 80000/214200, Finish:37.35 %\n",
      "Caculate: 80800/214200, Finish:37.72 %\n",
      "Caculate: 81600/214200, Finish:38.10 %\n",
      "Caculate: 82400/214200, Finish:38.47 %\n",
      "Caculate: 83200/214200, Finish:38.84 %\n",
      "Caculate: 84000/214200, Finish:39.22 %\n",
      "Caculate: 84800/214200, Finish:39.59 %\n",
      "Caculate: 85600/214200, Finish:39.96 %\n",
      "Caculate: 86400/214200, Finish:40.34 %\n",
      "Caculate: 87200/214200, Finish:40.71 %\n",
      "Caculate: 88000/214200, Finish:41.08 %\n",
      "Caculate: 88800/214200, Finish:41.46 %\n",
      "Caculate: 89600/214200, Finish:41.83 %\n",
      "Caculate: 90400/214200, Finish:42.20 %\n",
      "Caculate: 91200/214200, Finish:42.58 %\n",
      "Caculate: 92000/214200, Finish:42.95 %\n",
      "Caculate: 92800/214200, Finish:43.32 %\n",
      "Caculate: 93600/214200, Finish:43.70 %\n",
      "Caculate: 94400/214200, Finish:44.07 %\n",
      "Caculate: 95200/214200, Finish:44.44 %\n",
      "Caculate: 96000/214200, Finish:44.82 %\n",
      "Caculate: 96800/214200, Finish:45.19 %\n",
      "Caculate: 97600/214200, Finish:45.56 %\n",
      "Caculate: 98400/214200, Finish:45.94 %\n",
      "Caculate: 99200/214200, Finish:46.31 %\n",
      "Caculate: 100000/214200, Finish:46.69 %\n",
      "Caculate: 100800/214200, Finish:47.06 %\n",
      "Caculate: 101600/214200, Finish:47.43 %\n",
      "Caculate: 102400/214200, Finish:47.81 %\n",
      "Caculate: 103200/214200, Finish:48.18 %\n",
      "Caculate: 104000/214200, Finish:48.55 %\n",
      "Caculate: 104800/214200, Finish:48.93 %\n",
      "Caculate: 105600/214200, Finish:49.30 %\n",
      "Caculate: 106400/214200, Finish:49.67 %\n",
      "Caculate: 107200/214200, Finish:50.05 %\n",
      "Caculate: 108000/214200, Finish:50.42 %\n",
      "Caculate: 108800/214200, Finish:50.79 %\n",
      "Caculate: 109600/214200, Finish:51.17 %\n",
      "Caculate: 110400/214200, Finish:51.54 %\n",
      "Caculate: 111200/214200, Finish:51.91 %\n",
      "Caculate: 112000/214200, Finish:52.29 %\n",
      "Caculate: 112800/214200, Finish:52.66 %\n",
      "Caculate: 113600/214200, Finish:53.03 %\n",
      "Caculate: 114400/214200, Finish:53.41 %\n",
      "Caculate: 115200/214200, Finish:53.78 %\n",
      "Caculate: 116000/214200, Finish:54.15 %\n",
      "Caculate: 116800/214200, Finish:54.53 %\n",
      "Caculate: 117600/214200, Finish:54.90 %\n",
      "Caculate: 118400/214200, Finish:55.28 %\n",
      "Caculate: 119200/214200, Finish:55.65 %\n",
      "Caculate: 120000/214200, Finish:56.02 %\n",
      "Caculate: 120800/214200, Finish:56.40 %\n",
      "Caculate: 121600/214200, Finish:56.77 %\n",
      "Caculate: 122400/214200, Finish:57.14 %\n",
      "Caculate: 123200/214200, Finish:57.52 %\n",
      "Caculate: 124000/214200, Finish:57.89 %\n",
      "Caculate: 124800/214200, Finish:58.26 %\n",
      "Caculate: 125600/214200, Finish:58.64 %\n",
      "Caculate: 126400/214200, Finish:59.01 %\n",
      "Caculate: 127200/214200, Finish:59.38 %\n",
      "Caculate: 128000/214200, Finish:59.76 %\n",
      "Caculate: 128800/214200, Finish:60.13 %\n",
      "Caculate: 129600/214200, Finish:60.50 %\n",
      "Caculate: 130400/214200, Finish:60.88 %\n",
      "Caculate: 131200/214200, Finish:61.25 %\n",
      "Caculate: 132000/214200, Finish:61.62 %\n",
      "Caculate: 132800/214200, Finish:62.00 %\n",
      "Caculate: 133600/214200, Finish:62.37 %\n",
      "Caculate: 134400/214200, Finish:62.75 %\n",
      "Caculate: 135200/214200, Finish:63.12 %\n",
      "Caculate: 136000/214200, Finish:63.49 %\n",
      "Caculate: 136800/214200, Finish:63.87 %\n",
      "Caculate: 137600/214200, Finish:64.24 %\n",
      "Caculate: 138400/214200, Finish:64.61 %\n",
      "Caculate: 139200/214200, Finish:64.99 %\n",
      "Caculate: 140000/214200, Finish:65.36 %\n",
      "Caculate: 140800/214200, Finish:65.73 %\n",
      "Caculate: 141600/214200, Finish:66.11 %\n",
      "Caculate: 142400/214200, Finish:66.48 %\n",
      "Caculate: 143200/214200, Finish:66.85 %\n",
      "Caculate: 144000/214200, Finish:67.23 %\n",
      "Caculate: 144800/214200, Finish:67.60 %\n",
      "Caculate: 145600/214200, Finish:67.97 %\n",
      "Caculate: 146400/214200, Finish:68.35 %\n",
      "Caculate: 147200/214200, Finish:68.72 %\n",
      "Caculate: 148000/214200, Finish:69.09 %\n",
      "Caculate: 148800/214200, Finish:69.47 %\n",
      "Caculate: 149600/214200, Finish:69.84 %\n",
      "Caculate: 150400/214200, Finish:70.21 %\n",
      "Caculate: 151200/214200, Finish:70.59 %\n",
      "Caculate: 152000/214200, Finish:70.96 %\n",
      "Caculate: 152800/214200, Finish:71.34 %\n",
      "Caculate: 153600/214200, Finish:71.71 %\n",
      "Caculate: 154400/214200, Finish:72.08 %\n",
      "Caculate: 155200/214200, Finish:72.46 %\n",
      "Caculate: 156000/214200, Finish:72.83 %\n",
      "Caculate: 156800/214200, Finish:73.20 %\n",
      "Caculate: 157600/214200, Finish:73.58 %\n",
      "Caculate: 158400/214200, Finish:73.95 %\n",
      "Caculate: 159200/214200, Finish:74.32 %\n",
      "Caculate: 160000/214200, Finish:74.70 %\n",
      "Caculate: 160800/214200, Finish:75.07 %\n",
      "Caculate: 161600/214200, Finish:75.44 %\n",
      "Caculate: 162400/214200, Finish:75.82 %\n",
      "Caculate: 163200/214200, Finish:76.19 %\n",
      "Caculate: 164000/214200, Finish:76.56 %\n",
      "Caculate: 164800/214200, Finish:76.94 %\n",
      "Caculate: 165600/214200, Finish:77.31 %\n",
      "Caculate: 166400/214200, Finish:77.68 %\n",
      "Caculate: 167200/214200, Finish:78.06 %\n"
     ]
    },
    {
     "name": "stdout",
     "output_type": "stream",
     "text": [
      "Caculate: 168000/214200, Finish:78.43 %\n",
      "Caculate: 168800/214200, Finish:78.80 %\n",
      "Caculate: 169600/214200, Finish:79.18 %\n",
      "Caculate: 170400/214200, Finish:79.55 %\n",
      "Caculate: 171200/214200, Finish:79.93 %\n",
      "Caculate: 172000/214200, Finish:80.30 %\n",
      "Caculate: 172800/214200, Finish:80.67 %\n",
      "Caculate: 173600/214200, Finish:81.05 %\n",
      "Caculate: 174400/214200, Finish:81.42 %\n",
      "Caculate: 175200/214200, Finish:81.79 %\n",
      "Caculate: 176000/214200, Finish:82.17 %\n",
      "Caculate: 176800/214200, Finish:82.54 %\n",
      "Caculate: 177600/214200, Finish:82.91 %\n",
      "Caculate: 178400/214200, Finish:83.29 %\n",
      "Caculate: 179200/214200, Finish:83.66 %\n",
      "Caculate: 180000/214200, Finish:84.03 %\n",
      "Caculate: 180800/214200, Finish:84.41 %\n",
      "Caculate: 181600/214200, Finish:84.78 %\n",
      "Caculate: 182400/214200, Finish:85.15 %\n",
      "Caculate: 183200/214200, Finish:85.53 %\n",
      "Caculate: 184000/214200, Finish:85.90 %\n",
      "Caculate: 184800/214200, Finish:86.27 %\n",
      "Caculate: 185600/214200, Finish:86.65 %\n",
      "Caculate: 186400/214200, Finish:87.02 %\n",
      "Caculate: 187200/214200, Finish:87.39 %\n",
      "Caculate: 188000/214200, Finish:87.77 %\n",
      "Caculate: 188800/214200, Finish:88.14 %\n",
      "Caculate: 189600/214200, Finish:88.52 %\n",
      "Caculate: 190400/214200, Finish:88.89 %\n",
      "Caculate: 191200/214200, Finish:89.26 %\n",
      "Caculate: 192000/214200, Finish:89.64 %\n",
      "Caculate: 192800/214200, Finish:90.01 %\n",
      "Caculate: 193600/214200, Finish:90.38 %\n",
      "Caculate: 194400/214200, Finish:90.76 %\n",
      "Caculate: 195200/214200, Finish:91.13 %\n",
      "Caculate: 196000/214200, Finish:91.50 %\n",
      "Caculate: 196800/214200, Finish:91.88 %\n",
      "Caculate: 197600/214200, Finish:92.25 %\n",
      "Caculate: 198400/214200, Finish:92.62 %\n",
      "Caculate: 199200/214200, Finish:93.00 %\n",
      "Caculate: 200000/214200, Finish:93.37 %\n",
      "Caculate: 200800/214200, Finish:93.74 %\n",
      "Caculate: 201600/214200, Finish:94.12 %\n",
      "Caculate: 202400/214200, Finish:94.49 %\n",
      "Caculate: 203200/214200, Finish:94.86 %\n",
      "Caculate: 204000/214200, Finish:95.24 %\n",
      "Caculate: 204800/214200, Finish:95.61 %\n",
      "Caculate: 205600/214200, Finish:95.99 %\n",
      "Caculate: 206400/214200, Finish:96.36 %\n",
      "Caculate: 207200/214200, Finish:96.73 %\n",
      "Caculate: 208000/214200, Finish:97.11 %\n",
      "Caculate: 208800/214200, Finish:97.48 %\n",
      "Caculate: 209600/214200, Finish:97.85 %\n",
      "Caculate: 210400/214200, Finish:98.23 %\n",
      "Caculate: 211200/214200, Finish:98.60 %\n",
      "Caculate: 212000/214200, Finish:98.97 %\n",
      "Caculate: 212800/214200, Finish:99.35 %\n",
      "Caculate: 213600/214200, Finish:99.72 %\n"
     ]
    }
   ],
   "source": [
    "result = trainAndPredictItem(G,np.array(test))"
   ]
  },
  {
   "cell_type": "code",
   "execution_count": 32,
   "metadata": {
    "colab": {},
    "colab_type": "code",
    "id": "oXyZqmjL3zZX"
   },
   "outputs": [],
   "source": [
    "save = np.array(result) + abs(np.min(np.array(result)))"
   ]
  },
  {
   "cell_type": "code",
   "execution_count": 33,
   "metadata": {
    "colab": {},
    "colab_type": "code",
    "id": "gBw828PO9MXc"
   },
   "outputs": [],
   "source": [
    "save = save*0.35"
   ]
  },
  {
   "cell_type": "code",
   "execution_count": 34,
   "metadata": {
    "colab": {},
    "colab_type": "code",
    "id": "PI1quKqV9Mdi"
   },
   "outputs": [],
   "source": [
    "dataset = pd.DataFrame({'item_cnt_month':save })"
   ]
  },
  {
   "cell_type": "code",
   "execution_count": 35,
   "metadata": {},
   "outputs": [],
   "source": [
    "dataset.to_csv('submission.csv',header=True,index=True)"
   ]
  },
  {
   "cell_type": "code",
   "execution_count": null,
   "metadata": {},
   "outputs": [],
   "source": []
  }
 ],
 "metadata": {
  "accelerator": "GPU",
  "colab": {
   "collapsed_sections": [],
   "name": "dsai3_4.ipynb",
   "provenance": [],
   "version": "0.3.2"
  },
  "kernelspec": {
   "display_name": "Python 3",
   "language": "python",
   "name": "python3"
  },
  "language_info": {
   "codemirror_mode": {
    "name": "ipython",
    "version": 3
   },
   "file_extension": ".py",
   "mimetype": "text/x-python",
   "name": "python",
   "nbconvert_exporter": "python",
   "pygments_lexer": "ipython3",
   "version": "3.5.2"
  }
 },
 "nbformat": 4,
 "nbformat_minor": 1
}
