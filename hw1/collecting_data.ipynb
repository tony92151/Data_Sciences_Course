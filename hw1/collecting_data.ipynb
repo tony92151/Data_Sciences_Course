{
 "cells": [
  {
   "cell_type": "code",
   "execution_count": 4,
   "metadata": {},
   "outputs": [
    {
     "name": "stdout",
     "output_type": "stream",
     "text": [
      "--2019-03-24 02:27:10--  http://data.taipower.com.tw/opendata/apply/file/d006005/%E5%8F%B0%E7%81%A3%E9%9B%BB%E5%8A%9B%E5%85%AC%E5%8F%B8_%E9%81%8E%E5%8E%BB%E9%9B%BB%E5%8A%9B%E4%BE%9B%E9%9C%80%E8%B3%87%E8%A8%8A.csv\n",
      "Resolving data.taipower.com.tw (data.taipower.com.tw)... 175.98.139.48, 175.98.140.48, 2001:4542:1056:200::48, ...\n",
      "Connecting to data.taipower.com.tw (data.taipower.com.tw)|175.98.139.48|:80... connected.\n",
      "HTTP request sent, awaiting response... 200 OK\n",
      "Length: 124556 (122K) [text/csv]\n",
      "Saving to: ‘power_usage_data.csv’\n",
      "\n",
      "power_usage_data.cs 100%[===================>] 121.64K   133KB/s    in 0.9s    \n",
      "\n",
      "2019-03-24 02:27:11 (133 KB/s) - ‘power_usage_data.csv’ saved [124556/124556]\n",
      "\n"
     ]
    }
   ],
   "source": [
    "!wget -c http://data.taipower.com.tw/opendata/apply/file/d006005/%E5%8F%B0%E7%81%A3%E9%9B%BB%E5%8A%9B%E5%85%AC%E5%8F%B8_%E9%81%8E%E5%8E%BB%E9%9B%BB%E5%8A%9B%E4%BE%9B%E9%9C%80%E8%B3%87%E8%A8%8A.csv -O power_usage_data.csv"
   ]
  },
  {
   "cell_type": "code",
   "execution_count": null,
   "metadata": {},
   "outputs": [],
   "source": []
  }
 ],
 "metadata": {
  "kernelspec": {
   "display_name": "conda_pytorch_p36",
   "language": "python",
   "name": "conda_pytorch_p36"
  },
  "language_info": {
   "codemirror_mode": {
    "name": "ipython",
    "version": 3
   },
   "file_extension": ".py",
   "mimetype": "text/x-python",
   "name": "python",
   "nbconvert_exporter": "python",
   "pygments_lexer": "ipython3",
   "version": "3.6.5"
  }
 },
 "nbformat": 4,
 "nbformat_minor": 2
}
